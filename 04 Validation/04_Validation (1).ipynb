{
  "nbformat": 4,
  "nbformat_minor": 0,
  "metadata": {
    "colab": {
      "provenance": []
    },
    "kernelspec": {
      "name": "python3",
      "display_name": "Python 3"
    },
    "language_info": {
      "name": "python"
    }
  },
  "cells": [
    {
      "cell_type": "code",
      "source": [
        "import pandas as pd\n",
        "\n",
        "# Modify the shareable link to get the raw link\n",
        "# Convert Google Drive shareable link to direct download link\n",
        "file_id = '1O2xnlrkVt0z_0X_nhzMtjIcMRoZmGrM6'\n",
        "csv_url = f'https://drive.google.com/uc?id={file_id}&export=download'\n",
        "\n",
        "# Read the CSV file using pandas\n",
        "# - Specifying a possible different delimiter (default is comma)\n",
        "# - Handling bad lines using 'on_bad_lines' parameter\n",
        "df = pd.read_csv(csv_url, sep=',', on_bad_lines='warn')  # You can use 'skip' instead of 'warn' if you prefer\n",
        "\n",
        "# Print column names\n",
        "print(\"Column names:\")\n",
        "print(df.columns)\n",
        "\n",
        "# Validate existence assertions\n",
        "missing_serial_numbers = df[df['Serial #'].isnull()]\n",
        "\n",
        "if not missing_serial_numbers.empty:\n",
        "    print(\"Crash records with missing serial numbers:\")\n",
        "    print(missing_serial_numbers)"
      ],
      "metadata": {
        "colab": {
          "base_uri": "https://localhost:8080/",
          "height": 0
        },
        "id": "OTX8xfxFDzLY",
        "outputId": "3a6d84d8-5141-4b4d-87b9-11b797ee4e3c"
      },
      "execution_count": 3,
      "outputs": [
        {
          "output_type": "stream",
          "name": "stdout",
          "text": [
            "Column names:\n",
            "Index(['Crash ID', 'Record Type', 'Vehicle ID', 'Participant ID',\n",
            "       'Participant Display Seq#', 'Vehicle Coded Seq#',\n",
            "       'Participant Vehicle Seq#', 'Serial #', 'Crash Month', 'Crash Day',\n",
            "       ...\n",
            "       'Participant Cause 2 Code', 'Participant Cause 3 Code',\n",
            "       'Participant Event 1 Code', 'Participant Event 2 Code',\n",
            "       'Participant Event 3 Code', 'BAC Test Results Code',\n",
            "       'Alcohol Use Reported', 'Drug Use Reported',\n",
            "       'Participant Marijuana Use Reported', 'Participant Striker Flag'],\n",
            "      dtype='object', length=157)\n",
            "Crash records with missing serial numbers:\n",
            "      Crash ID  Record Type  Vehicle ID  Participant ID  \\\n",
            "1      1809119            2   3409578.0             NaN   \n",
            "2      1809119            3   3409578.0       3887884.0   \n",
            "3      1809119            2   3409579.0             NaN   \n",
            "4      1809119            3   3409579.0       3887885.0   \n",
            "6      1809229            2   3409765.0             NaN   \n",
            "...        ...          ...         ...             ...   \n",
            "2733   1860453            3   3503424.0       3990938.0   \n",
            "2735   1860771            2   3503992.0             NaN   \n",
            "2736   1860771            3   3503992.0       3991482.0   \n",
            "2737   1860771            2   3503993.0             NaN   \n",
            "2738   1860771            3   3503993.0       3991483.0   \n",
            "\n",
            "      Participant Display Seq#  Vehicle Coded Seq#  Participant Vehicle Seq#  \\\n",
            "1                          NaN                 1.0                       NaN   \n",
            "2                          1.0                 1.0                       1.0   \n",
            "3                          NaN                 2.0                       NaN   \n",
            "4                          2.0                 2.0                       1.0   \n",
            "6                          NaN                 1.0                       NaN   \n",
            "...                        ...                 ...                       ...   \n",
            "2733                       2.0                 2.0                       1.0   \n",
            "2735                       NaN                 1.0                       NaN   \n",
            "2736                       1.0                 1.0                       1.0   \n",
            "2737                       NaN                 2.0                       NaN   \n",
            "2738                       2.0                 2.0                       1.0   \n",
            "\n",
            "      Serial #  Crash Month  Crash Day  ...  Participant Cause 2 Code  \\\n",
            "1          NaN          NaN        NaN  ...                       NaN   \n",
            "2          NaN          NaN        NaN  ...                       NaN   \n",
            "3          NaN          NaN        NaN  ...                       NaN   \n",
            "4          NaN          NaN        NaN  ...                       NaN   \n",
            "6          NaN          NaN        NaN  ...                       NaN   \n",
            "...        ...          ...        ...  ...                       ...   \n",
            "2733       NaN          NaN        NaN  ...                       NaN   \n",
            "2735       NaN          NaN        NaN  ...                       NaN   \n",
            "2736       NaN          NaN        NaN  ...                       NaN   \n",
            "2737       NaN          NaN        NaN  ...                       NaN   \n",
            "2738       NaN          NaN        NaN  ...                       NaN   \n",
            "\n",
            "      Participant Cause 3 Code  Participant Event 1 Code  \\\n",
            "1                          NaN                       NaN   \n",
            "2                          0.0                       9.0   \n",
            "3                          NaN                       NaN   \n",
            "4                          NaN                       9.0   \n",
            "6                          NaN                       NaN   \n",
            "...                        ...                       ...   \n",
            "2733                       NaN                       NaN   \n",
            "2735                       NaN                       NaN   \n",
            "2736                       NaN                       NaN   \n",
            "2737                       NaN                       NaN   \n",
            "2738                       NaN                       NaN   \n",
            "\n",
            "      Participant Event 2 Code  Participant Event 3 Code  \\\n",
            "1                          NaN                       NaN   \n",
            "2                          0.0                       0.0   \n",
            "3                          NaN                       NaN   \n",
            "4                          9.0                       0.0   \n",
            "6                          NaN                       NaN   \n",
            "...                        ...                       ...   \n",
            "2733                       NaN                       0.0   \n",
            "2735                       NaN                       NaN   \n",
            "2736                       NaN                       0.0   \n",
            "2737                       NaN                       NaN   \n",
            "2738                       NaN                       0.0   \n",
            "\n",
            "      BAC Test Results Code  Alcohol Use Reported  Drug Use Reported  \\\n",
            "1                       NaN                   NaN                NaN   \n",
            "2                       NaN                   NaN                NaN   \n",
            "3                       NaN                   NaN                NaN   \n",
            "4                       NaN                   NaN                NaN   \n",
            "6                       NaN                   NaN                NaN   \n",
            "...                     ...                   ...                ...   \n",
            "2733                    NaN                   NaN                NaN   \n",
            "2735                    NaN                   NaN                NaN   \n",
            "2736                    NaN                   NaN                NaN   \n",
            "2737                    NaN                   NaN                NaN   \n",
            "2738                    NaN                   NaN                NaN   \n",
            "\n",
            "      Participant Marijuana Use Reported  Participant Striker Flag  \n",
            "1                                    NaN                       NaN  \n",
            "2                                    NaN                       NaN  \n",
            "3                                    NaN                       NaN  \n",
            "4                                    NaN                       NaN  \n",
            "6                                    NaN                       NaN  \n",
            "...                                  ...                       ...  \n",
            "2733                                 NaN                       NaN  \n",
            "2735                                 NaN                       NaN  \n",
            "2736                                 NaN                       NaN  \n",
            "2737                                 NaN                       NaN  \n",
            "2738                                 NaN                       NaN  \n",
            "\n",
            "[2231 rows x 157 columns]\n"
          ]
        }
      ]
    },
    {
      "cell_type": "code",
      "source": [
        "import pandas as pd\n",
        "\n",
        "# Modify the shareable link to get the raw link\n",
        "# Convert Google Drive shareable link to direct download link\n",
        "file_id = '1O2xnlrkVt0z_0X_nhzMtjIcMRoZmGrM6'\n",
        "csv_url = f'https://drive.google.com/uc?id={file_id}&export=download'\n",
        "\n",
        "# Read the CSV file using pandas\n",
        "# - Specifying a possible different delimiter (default is comma)\n",
        "# - Handling bad lines using 'on_bad_lines' parameter\n",
        "df = pd.read_csv(csv_url, sep=',', on_bad_lines='warn')  # You can use 'skip' instead of 'warn' if you prefer\n",
        "\n",
        "# Print column names\n",
        "print(\"Column names:\")\n",
        "print(df.columns)\n",
        "\n",
        "missing_crash_levels = df[df['Crash Severity'].isnull()]\n",
        "\n",
        "\n",
        "if not missing_crash_levels.empty:\n",
        "    print(\"Crash records with missing crash levels:\")\n",
        "    print(missing_crash_levels)"
      ],
      "metadata": {
        "colab": {
          "base_uri": "https://localhost:8080/",
          "height": 0
        },
        "id": "r07ZsUHGDzt2",
        "outputId": "de74edd7-e22e-4cbf-89f0-adaa646d4c0a"
      },
      "execution_count": 4,
      "outputs": [
        {
          "output_type": "stream",
          "name": "stdout",
          "text": [
            "Column names:\n",
            "Index(['Crash ID', 'Record Type', 'Vehicle ID', 'Participant ID',\n",
            "       'Participant Display Seq#', 'Vehicle Coded Seq#',\n",
            "       'Participant Vehicle Seq#', 'Serial #', 'Crash Month', 'Crash Day',\n",
            "       ...\n",
            "       'Participant Cause 2 Code', 'Participant Cause 3 Code',\n",
            "       'Participant Event 1 Code', 'Participant Event 2 Code',\n",
            "       'Participant Event 3 Code', 'BAC Test Results Code',\n",
            "       'Alcohol Use Reported', 'Drug Use Reported',\n",
            "       'Participant Marijuana Use Reported', 'Participant Striker Flag'],\n",
            "      dtype='object', length=157)\n",
            "Crash records with missing crash levels:\n",
            "      Crash ID  Record Type  Vehicle ID  Participant ID  \\\n",
            "1      1809119            2   3409578.0             NaN   \n",
            "2      1809119            3   3409578.0       3887884.0   \n",
            "3      1809119            2   3409579.0             NaN   \n",
            "4      1809119            3   3409579.0       3887885.0   \n",
            "6      1809229            2   3409765.0             NaN   \n",
            "...        ...          ...         ...             ...   \n",
            "2733   1860453            3   3503424.0       3990938.0   \n",
            "2735   1860771            2   3503992.0             NaN   \n",
            "2736   1860771            3   3503992.0       3991482.0   \n",
            "2737   1860771            2   3503993.0             NaN   \n",
            "2738   1860771            3   3503993.0       3991483.0   \n",
            "\n",
            "      Participant Display Seq#  Vehicle Coded Seq#  Participant Vehicle Seq#  \\\n",
            "1                          NaN                 1.0                       NaN   \n",
            "2                          1.0                 1.0                       1.0   \n",
            "3                          NaN                 2.0                       NaN   \n",
            "4                          2.0                 2.0                       1.0   \n",
            "6                          NaN                 1.0                       NaN   \n",
            "...                        ...                 ...                       ...   \n",
            "2733                       2.0                 2.0                       1.0   \n",
            "2735                       NaN                 1.0                       NaN   \n",
            "2736                       1.0                 1.0                       1.0   \n",
            "2737                       NaN                 2.0                       NaN   \n",
            "2738                       2.0                 2.0                       1.0   \n",
            "\n",
            "      Serial #  Crash Month  Crash Day  ...  Participant Cause 2 Code  \\\n",
            "1          NaN          NaN        NaN  ...                       NaN   \n",
            "2          NaN          NaN        NaN  ...                       NaN   \n",
            "3          NaN          NaN        NaN  ...                       NaN   \n",
            "4          NaN          NaN        NaN  ...                       NaN   \n",
            "6          NaN          NaN        NaN  ...                       NaN   \n",
            "...        ...          ...        ...  ...                       ...   \n",
            "2733       NaN          NaN        NaN  ...                       NaN   \n",
            "2735       NaN          NaN        NaN  ...                       NaN   \n",
            "2736       NaN          NaN        NaN  ...                       NaN   \n",
            "2737       NaN          NaN        NaN  ...                       NaN   \n",
            "2738       NaN          NaN        NaN  ...                       NaN   \n",
            "\n",
            "      Participant Cause 3 Code  Participant Event 1 Code  \\\n",
            "1                          NaN                       NaN   \n",
            "2                          0.0                       9.0   \n",
            "3                          NaN                       NaN   \n",
            "4                          NaN                       9.0   \n",
            "6                          NaN                       NaN   \n",
            "...                        ...                       ...   \n",
            "2733                       NaN                       NaN   \n",
            "2735                       NaN                       NaN   \n",
            "2736                       NaN                       NaN   \n",
            "2737                       NaN                       NaN   \n",
            "2738                       NaN                       NaN   \n",
            "\n",
            "      Participant Event 2 Code  Participant Event 3 Code  \\\n",
            "1                          NaN                       NaN   \n",
            "2                          0.0                       0.0   \n",
            "3                          NaN                       NaN   \n",
            "4                          9.0                       0.0   \n",
            "6                          NaN                       NaN   \n",
            "...                        ...                       ...   \n",
            "2733                       NaN                       0.0   \n",
            "2735                       NaN                       NaN   \n",
            "2736                       NaN                       0.0   \n",
            "2737                       NaN                       NaN   \n",
            "2738                       NaN                       0.0   \n",
            "\n",
            "      BAC Test Results Code  Alcohol Use Reported  Drug Use Reported  \\\n",
            "1                       NaN                   NaN                NaN   \n",
            "2                       NaN                   NaN                NaN   \n",
            "3                       NaN                   NaN                NaN   \n",
            "4                       NaN                   NaN                NaN   \n",
            "6                       NaN                   NaN                NaN   \n",
            "...                     ...                   ...                ...   \n",
            "2733                    NaN                   NaN                NaN   \n",
            "2735                    NaN                   NaN                NaN   \n",
            "2736                    NaN                   NaN                NaN   \n",
            "2737                    NaN                   NaN                NaN   \n",
            "2738                    NaN                   NaN                NaN   \n",
            "\n",
            "      Participant Marijuana Use Reported  Participant Striker Flag  \n",
            "1                                    NaN                       NaN  \n",
            "2                                    NaN                       NaN  \n",
            "3                                    NaN                       NaN  \n",
            "4                                    NaN                       NaN  \n",
            "6                                    NaN                       NaN  \n",
            "...                                  ...                       ...  \n",
            "2733                                 NaN                       NaN  \n",
            "2735                                 NaN                       NaN  \n",
            "2736                                 NaN                       NaN  \n",
            "2737                                 NaN                       NaN  \n",
            "2738                                 NaN                       NaN  \n",
            "\n",
            "[2231 rows x 157 columns]\n"
          ]
        }
      ]
    },
    {
      "cell_type": "code",
      "source": [
        "# Filter the DataFrame to include only rows where Record Type is 1\n",
        "record_type_1_df = df[df['Record Type'] == 1]\n",
        "\n",
        "# Filter the DataFrame to include only columns with non-null values\n",
        "non_null_columns_df = record_type_1_df.dropna(axis=1, how='all')\n",
        "\n",
        "print(\"Column names:\")\n",
        "print(non_null_columns_df.columns)"
      ],
      "metadata": {
        "colab": {
          "base_uri": "https://localhost:8080/",
          "height": 0
        },
        "id": "grBiVImzEGZZ",
        "outputId": "7ddff521-3bd6-432a-8c14-d6de087ac39d"
      },
      "execution_count": 5,
      "outputs": [
        {
          "output_type": "stream",
          "name": "stdout",
          "text": [
            "Column names:\n",
            "Index(['Crash ID', 'Record Type', 'Serial #', 'Crash Month', 'Crash Day',\n",
            "       'Crash Year', 'Week Day Code', 'Crash Hour', 'County Code',\n",
            "       'City Section ID', 'Urban Area Code', 'Functional Class Code',\n",
            "       'NHS Flag', 'Highway Number', 'Roadway Number', 'Highway Component',\n",
            "       'Mileage Type', 'Connection Number', 'Linear Reference System (LRS)',\n",
            "       'Latitude Degrees', 'Latitude Minutes', 'Latitude Seconds',\n",
            "       'Longitude Degrees', 'Longitude Minutes', 'Longitude Seconds',\n",
            "       'Latitude (Decimal Degrees)', 'Special Jurisdiction',\n",
            "       'Jurisdiction Group', 'Street Number', 'Intersection Sequence Number',\n",
            "       'Distance from Intersection', 'Direction From Intersection',\n",
            "       'Milepoint', 'Posted Speed Limit', 'Road Character', 'Off Roadway Flag',\n",
            "       'Intersection Type', 'Intersection Related Flag', 'Roundabout Flag',\n",
            "       'Driveway Related Flag', 'Number of Lanes', 'Number of Turning Legs',\n",
            "       'Median Type', 'Impact Location', 'Crash Type', 'Collision Type',\n",
            "       'Crash Severity', 'Weather Condition', 'Road Surface Condition',\n",
            "       'Light Condition', 'Traffic Control Device (TCD)',\n",
            "       'TCD Functional Flag', 'Investigating Agency',\n",
            "       'Crash Level Event 1 Code', 'Crash Level Event 2 Code',\n",
            "       'Crash Level Event 3 Code', 'Crash Level Cause 1 Code',\n",
            "       'Crash Level Cause 2 Code', 'Crash Level Cause 3 Code',\n",
            "       'School Zone Indicator', 'Work Zone Indicator',\n",
            "       'Secondary Crash Indicator', 'Alcohol-Involved Flag',\n",
            "       'Drugs Involved Flag', 'Crash Marijuana Involved Flag',\n",
            "       'Speed Involved Flag', 'Crash Level Hit & Run Flag',\n",
            "       'Population Range Code', 'Road Control', 'Route Type', 'Region ID',\n",
            "       'District ID', 'Segment Marker ID', 'Segment Point LRS Measure',\n",
            "       'Unlocatable Flag', 'Total Vehicle Count', 'Total Fatality Count',\n",
            "       'Total Suspected Serious Injury (A) Count',\n",
            "       'Total Suspected Minor Injury (B) Count',\n",
            "       'Total Possible Injury (C) Count', 'Total Non-Fatal Injury Count',\n",
            "       'Total Un-Injured  Children Age 00-04', 'Total Un-Injured Persons',\n",
            "       'Total Pedestrian Count', 'Total Pedestrian Fatality Count',\n",
            "       'Total Pedestrian Non-Fatal Injury Count', 'Total Pedalcyclist Count',\n",
            "       'Total Pedalcyclist Fatality Count',\n",
            "       'Total Pedalcyclist Non-Fatal Injury Count',\n",
            "       'Total Unknown Non-Motorist Count',\n",
            "       'Total Unknown Non-Motorist Fatality Count',\n",
            "       'Total Unknown Non-Motorist Injury Count',\n",
            "       'Total Vehicle Occupant Count'],\n",
            "      dtype='object')\n"
          ]
        }
      ]
    },
    {
      "cell_type": "code",
      "source": [
        "# Make a csv file that has record type 1 data\n",
        "import pandas as pd\n",
        "\n",
        "# Define the list of columns to include in the new CSV file\n",
        "columns_to_include = ['Crash ID', 'Record Type','Serial #', 'Crash Month', 'Crash Day',\n",
        "                      'Crash Year', 'Week Day Code', 'Crash Hour', 'County Code',\n",
        "                      'City Section ID', 'Urban Area Code', 'Functional Class Code',\n",
        "                      'NHS Flag', 'Highway Number', 'Roadway Number', 'Highway Component',\n",
        "                      'Mileage Type', 'Connection Number', 'Linear Reference System (LRS)',\n",
        "                      'Latitude Degrees', 'Latitude Minutes', 'Latitude Seconds',\n",
        "                      'Longitude Degrees', 'Longitude Minutes', 'Longitude Seconds',\n",
        "                      'Latitude (Decimal Degrees)', 'Special Jurisdiction',\n",
        "                      'Jurisdiction Group', 'Street Number', 'Intersection Sequence Number',\n",
        "                      'Distance from Intersection', 'Direction From Intersection',\n",
        "                      'Milepoint', 'Posted Speed Limit', 'Road Character', 'Off Roadway Flag',\n",
        "                      'Intersection Type', 'Intersection Related Flag', 'Roundabout Flag',\n",
        "                      'Driveway Related Flag', 'Number of Lanes', 'Number of Turning Legs',\n",
        "                      'Median Type', 'Impact Location', 'Crash Type', 'Collision Type',\n",
        "                      'Crash Severity', 'Weather Condition', 'Road Surface Condition',\n",
        "                      'Light Condition', 'Traffic Control Device (TCD)',\n",
        "                      'TCD Functional Flag', 'Investigating Agency',\n",
        "                      'Crash Level Event 1 Code', 'Crash Level Event 2 Code',\n",
        "                      'Crash Level Event 3 Code', 'Crash Level Cause 1 Code',\n",
        "                      'Crash Level Cause 2 Code', 'Crash Level Cause 3 Code',\n",
        "                      'School Zone Indicator', 'Work Zone Indicator',\n",
        "                      'Secondary Crash Indicator', 'Alcohol-Involved Flag',\n",
        "                      'Drugs Involved Flag', 'Crash Marijuana Involved Flag',\n",
        "                      'Speed Involved Flag', 'Crash Level Hit & Run Flag',\n",
        "                      'Population Range Code', 'Road Control', 'Route Type', 'Region ID',\n",
        "                      'District ID', 'Segment Marker ID', 'Segment Point LRS Measure',\n",
        "                      'Unlocatable Flag', 'Total Vehicle Count', 'Total Fatality Count',\n",
        "                      'Total Suspected Serious Injury (A) Count',\n",
        "                      'Total Suspected Minor Injury (B) Count',\n",
        "                      'Total Possible Injury (C) Count', 'Total Non-Fatal Injury Count',\n",
        "                      'Total Un-Injured  Children Age 00-04', 'Total Un-Injured Persons',\n",
        "                      'Total Pedestrian Count', 'Total Pedestrian Fatality Count',\n",
        "                      'Total Pedestrian Non-Fatal Injury Count', 'Total Pedalcyclist Count',\n",
        "                      'Total Pedalcyclist Fatality Count',\n",
        "                      'Total Pedalcyclist Non-Fatal Injury Count',\n",
        "                      'Total Unknown Non-Motorist Count',\n",
        "                      'Total Unknown Non-Motorist Fatality Count',\n",
        "                      'Total Unknown Non-Motorist Injury Count',\n",
        "                      'Total Vehicle Occupant Count']\n",
        "\n",
        "# Filter the DataFrame to include only the specified columns\n",
        "selected_columns_df = df[columns_to_include]\n",
        "# Write the selected columns to a new CSV file\n",
        "selected_columns_df.to_csv('selected_columns_data.csv', index=False)\n",
        "# Drop rows with null values\n",
        "selected_columns_df.dropna(inplace=True)\n",
        "\n",
        "# Write the selected columns to a new CSV file\n",
        "selected_columns_df.to_csv('selected_columns_data_no_null.csv', index=False)"
      ],
      "metadata": {
        "colab": {
          "base_uri": "https://localhost:8080/",
          "height": 0
        },
        "id": "AcO2OxshEKwj",
        "outputId": "4d6665aa-524e-470f-c15c-c03055758877"
      },
      "execution_count": 6,
      "outputs": [
        {
          "output_type": "stream",
          "name": "stderr",
          "text": [
            "<ipython-input-6-a849b41616e9>:50: SettingWithCopyWarning: \n",
            "A value is trying to be set on a copy of a slice from a DataFrame\n",
            "\n",
            "See the caveats in the documentation: https://pandas.pydata.org/pandas-docs/stable/user_guide/indexing.html#returning-a-view-versus-a-copy\n",
            "  selected_columns_df.dropna(inplace=True)\n"
          ]
        }
      ]
    },
    {
      "cell_type": "code",
      "source": [
        "import pandas as pd\n",
        "\n",
        "# Read the original CSV file containing all data\n",
        "original_df = pd.read_csv('/content/selected_columns_data.csv')\n",
        "\n",
        "# Filter the original DataFrame to include only rows where Record Type is 1\n",
        "record_type_1_df = original_df[original_df['Record Type'] == 1]\n",
        "\n",
        "# Write the values of the record_type_1_df to the new CSV file created without null values\n",
        "record_type_1_df.to_csv('selected_columns_data_no_null.csv', index=False, mode='a', header=False)"
      ],
      "metadata": {
        "id": "qt3-qQ6AEUiV"
      },
      "execution_count": 7,
      "outputs": []
    },
    {
      "cell_type": "code",
      "source": [
        "# Make a csv file that has record type 2 data\n",
        "# Filter the DataFrame to include only rows where Record Type is 1\n",
        "record_type_1_df = df[df['Record Type'] == 2]\n",
        "\n",
        "# Filter the DataFrame to include only columns with non-null values\n",
        "non_null_columns_df = record_type_1_df.dropna(axis=1, how='all')\n",
        "\n",
        "print(\"Column names:\")\n",
        "print(non_null_columns_df.columns)"
      ],
      "metadata": {
        "colab": {
          "base_uri": "https://localhost:8080/",
          "height": 0
        },
        "id": "K_Jj03CwEXT9",
        "outputId": "648ddfb1-714b-4ca1-ef35-de67a3c85cf5"
      },
      "execution_count": 8,
      "outputs": [
        {
          "output_type": "stream",
          "name": "stdout",
          "text": [
            "Column names:\n",
            "Index(['Crash ID', 'Record Type', 'Vehicle ID', 'Vehicle Coded Seq#',\n",
            "       'Total Count of Persons Involved',\n",
            "       'Total Persons Using Safety Equipment  ',\n",
            "       'Total Persons Not Using Safety Equipment',\n",
            "       'Total Persons Safety Equipment Use Unknown', 'Vehicle Ownership Code',\n",
            "       'Vehicle Special Use Code', 'Vehicle Type Code', 'Emergency Use Flag',\n",
            "       'Number of Trailers', 'Vehicle Movement Code', 'Vehicle Action Code',\n",
            "       'Vehicle Cause 1 Code', 'Vehicle Cause 2 Code', 'Vehicle Cause 3 Code',\n",
            "       'Vehicle Event 1 Code', 'Vehicle Event 2 Code', 'Vehicle Event 3 Code',\n",
            "       'Vehicle Exceeded Posted Speed Flag', 'Vehicle Hit & Run Flag',\n",
            "       'Safety Equipment Used Quantity'],\n",
            "      dtype='object')\n"
          ]
        }
      ]
    },
    {
      "cell_type": "code",
      "source": [
        "import pandas as pd\n",
        "\n",
        "# Define the list of columns to include in the new CSV file\n",
        "columns_to_include = ['Crash ID', 'Record Type', 'Vehicle ID', 'Vehicle Coded Seq#',\n",
        "       'Total Count of Persons Involved',\n",
        "       'Total Persons Using Safety Equipment  ',\n",
        "       'Total Persons Not Using Safety Equipment',\n",
        "       'Total Persons Safety Equipment Use Unknown', 'Vehicle Ownership Code',\n",
        "       'Vehicle Special Use Code', 'Vehicle Type Code', 'Emergency Use Flag',\n",
        "       'Number of Trailers', 'Vehicle Movement Code', 'Vehicle Action Code',\n",
        "       'Vehicle Cause 1 Code', 'Vehicle Cause 2 Code', 'Vehicle Cause 3 Code',\n",
        "       'Vehicle Event 1 Code', 'Vehicle Event 2 Code', 'Vehicle Event 3 Code',\n",
        "       'Vehicle Exceeded Posted Speed Flag', 'Vehicle Hit & Run Flag',\n",
        "       'Safety Equipment Used Quantity']\n",
        "# Filter the DataFrame to include only the specified columns\n",
        "selected_columns_df = df[columns_to_include]\n",
        "# Write the selected columns to a new CSV file\n",
        "selected_columns_df.to_csv('selected_columns_data_record2.csv', index=False)\n",
        "# Drop rows with null values\n",
        "selected_columns_df.dropna(inplace=True)\n",
        "\n",
        "# Write the selected columns to a new CSV file\n",
        "selected_columns_df.to_csv('selected_columns_data_no_null_record2.csv', index=False)"
      ],
      "metadata": {
        "colab": {
          "base_uri": "https://localhost:8080/",
          "height": 0
        },
        "id": "Ct-ejixvEeKh",
        "outputId": "4f977b28-bd69-463f-ff1d-3c6c7ba80b28"
      },
      "execution_count": 9,
      "outputs": [
        {
          "output_type": "stream",
          "name": "stderr",
          "text": [
            "<ipython-input-9-39816cf1f3d5>:20: SettingWithCopyWarning: \n",
            "A value is trying to be set on a copy of a slice from a DataFrame\n",
            "\n",
            "See the caveats in the documentation: https://pandas.pydata.org/pandas-docs/stable/user_guide/indexing.html#returning-a-view-versus-a-copy\n",
            "  selected_columns_df.dropna(inplace=True)\n"
          ]
        }
      ]
    },
    {
      "cell_type": "code",
      "source": [
        "import pandas as pd\n",
        "\n",
        "# Read the original CSV file containing all data\n",
        "original_df = pd.read_csv('/content/selected_columns_data_record2.csv')\n",
        "\n",
        "# Filter the original DataFrame to include only rows where Record Type is 1\n",
        "record_type_1_df = original_df[original_df['Record Type'] == 2]\n",
        "\n",
        "# Write the values of the record_type_1_df to the new CSV file created without null values\n",
        "record_type_1_df.to_csv('selected_columns_data_no_null_record2.csv', index=False, mode='a', header=False)"
      ],
      "metadata": {
        "id": "QYnbH7TsEgeU"
      },
      "execution_count": 10,
      "outputs": []
    },
    {
      "cell_type": "code",
      "source": [
        "# Make a csv file that has record type 3 data\n",
        "record_type_1_df = df[df['Record Type'] == 3]\n",
        "\n",
        "# Filter the DataFrame to include only columns with non-null values\n",
        "non_null_columns_df = record_type_1_df.dropna(axis=1, how='all')\n",
        "\n",
        "print(\"Column names:\")\n",
        "print(non_null_columns_df.columns)"
      ],
      "metadata": {
        "colab": {
          "base_uri": "https://localhost:8080/",
          "height": 0
        },
        "id": "uEJGga0xEic9",
        "outputId": "fb76d9b0-8876-4bd3-8838-6715d8015498"
      },
      "execution_count": 11,
      "outputs": [
        {
          "output_type": "stream",
          "name": "stdout",
          "text": [
            "Column names:\n",
            "Index(['Crash ID', 'Record Type', 'Vehicle ID', 'Participant ID',\n",
            "       'Participant Display Seq#', 'Vehicle Coded Seq#',\n",
            "       'Participant Vehicle Seq#', 'Safety Equipment Un-used Quantity',\n",
            "       'Safety Equipment Use Unknown Quantity', 'Vehicle Occupant Count',\n",
            "       'Vehicle Striking Flag', 'Participant Type Code',\n",
            "       'Participant Hit & Run Flag', 'Public Employee Flag', 'Sex', 'Age',\n",
            "       'Driver License Status', 'Driver Residence Status', 'Injury Severity',\n",
            "       'Participant Safety Equipment Use Code', 'Airbag Deployment',\n",
            "       'Non-Motorist Movement Code', 'Non-Motorist Travel Direction From',\n",
            "       'Non-Motorist Travel Direction To', 'Non-Motorist Location',\n",
            "       'Participant Action', 'Participant Error 1 Code',\n",
            "       'Participant Error 2 Code', 'Participant Error 3 Code',\n",
            "       'Participant Cause 3 Code', 'Participant Event 1 Code',\n",
            "       'Participant Event 2 Code', 'Participant Event 3 Code'],\n",
            "      dtype='object')\n"
          ]
        }
      ]
    },
    {
      "cell_type": "code",
      "source": [
        "import pandas as pd\n",
        "\n",
        "# Define the list of columns to include in the new CSV file\n",
        "columns_to_include = ['Crash ID', 'Record Type', 'Vehicle ID', 'Participant ID',\n",
        "       'Participant Display Seq#', 'Vehicle Coded Seq#',\n",
        "       'Participant Vehicle Seq#', 'Safety Equipment Un-used Quantity',\n",
        "       'Safety Equipment Use Unknown Quantity', 'Vehicle Occupant Count',\n",
        "       'Vehicle Striking Flag', 'Participant Type Code',\n",
        "       'Participant Hit & Run Flag', 'Public Employee Flag', 'Sex', 'Age',\n",
        "       'Driver License Status', 'Driver Residence Status', 'Injury Severity',\n",
        "       'Participant Safety Equipment Use Code', 'Airbag Deployment',\n",
        "       'Non-Motorist Movement Code', 'Non-Motorist Travel Direction From',\n",
        "       'Non-Motorist Travel Direction To', 'Non-Motorist Location',\n",
        "       'Participant Action', 'Participant Error 1 Code',\n",
        "       'Participant Error 2 Code', 'Participant Error 3 Code',\n",
        "       'Participant Cause 3 Code', 'Participant Event 1 Code',\n",
        "       'Participant Event 2 Code', 'Participant Event 3 Code']\n",
        "# Filter the DataFrame to include only the specified columns\n",
        "selected_columns_df = df[columns_to_include]\n",
        "# Write the selected columns to a new CSV file\n",
        "selected_columns_df.to_csv('selected_columns_data_record3.csv', index=False)\n",
        "# Drop rows with null values\n",
        "selected_columns_df.dropna(inplace=True)\n",
        "\n",
        "# Write the selected columns to a new CSV file\n",
        "selected_columns_df.to_csv('selected_columns_data_no_null_record3.csv', index=False)"
      ],
      "metadata": {
        "colab": {
          "base_uri": "https://localhost:8080/",
          "height": 0
        },
        "id": "v5fFG9ttEufO",
        "outputId": "416279cf-391d-4991-cced-b0e30a41559f"
      },
      "execution_count": 12,
      "outputs": [
        {
          "output_type": "stream",
          "name": "stderr",
          "text": [
            "<ipython-input-12-950c609f47ce>:23: SettingWithCopyWarning: \n",
            "A value is trying to be set on a copy of a slice from a DataFrame\n",
            "\n",
            "See the caveats in the documentation: https://pandas.pydata.org/pandas-docs/stable/user_guide/indexing.html#returning-a-view-versus-a-copy\n",
            "  selected_columns_df.dropna(inplace=True)\n"
          ]
        }
      ]
    },
    {
      "cell_type": "code",
      "source": [
        "import pandas as pd\n",
        "\n",
        "# Read the original CSV file containing all data\n",
        "original_df = pd.read_csv('/content/selected_columns_data_record3.csv')\n",
        "\n",
        "# Filter the original DataFrame to include only rows where Record Type is 1\n",
        "record_type_1_df = original_df[original_df['Record Type'] == 3]\n",
        "\n",
        "# Write the values of the record_type_1_df to the new CSV file created without null values\n",
        "record_type_1_df.to_csv('selected_columns_data_no_null_record3.csv', index=False, mode='a', header=False)"
      ],
      "metadata": {
        "id": "eP15fbqZEw49"
      },
      "execution_count": 13,
      "outputs": []
    },
    {
      "cell_type": "markdown",
      "source": [
        "Existence Assertion 1. Every crash should have a serial number: Failed validation"
      ],
      "metadata": {
        "id": "DKvS-JYoE0Nf"
      }
    },
    {
      "cell_type": "code",
      "source": [
        "import pandas as pd\n",
        "\n",
        "# Read the CSV file\n",
        "df = pd.read_csv('/content/selected_columns_data_no_null.csv')\n",
        "\n",
        "# Check for missing serial numbers\n",
        "missing_serial_numbers = df[df['Serial #'].isnull()]\n",
        "\n",
        "# Check if there are any missing serial numbers\n",
        "if not missing_serial_numbers.empty:\n",
        "    print(\"Validation failed: Some crashes do not have a serial number.\")\n",
        "    # You can print or further process the rows with missing serial numbers\n",
        "    print(\"Rows with missing serial numbers:\")\n",
        "    print(missing_serial_numbers)\n",
        "else:\n",
        "    print(\"Validation passed: Every crash has a serial number.\")"
      ],
      "metadata": {
        "colab": {
          "base_uri": "https://localhost:8080/",
          "height": 0
        },
        "id": "DKEKAloaEy4q",
        "outputId": "13a18dac-865e-4d80-c2ef-c58b747b52d3"
      },
      "execution_count": 14,
      "outputs": [
        {
          "output_type": "stream",
          "name": "stdout",
          "text": [
            "Validation passed: Every crash has a serial number.\n"
          ]
        }
      ]
    },
    {
      "cell_type": "markdown",
      "source": [
        "Existence Assertion 2. Every crash should have a crash level"
      ],
      "metadata": {
        "id": "2jR6Ng2xFLPk"
      }
    },
    {
      "cell_type": "code",
      "source": [
        "import pandas as pd\n",
        "\n",
        "# Read the CSV file\n",
        "df = pd.read_csv('/content/selected_columns_data_no_null.csv')\n",
        "\n",
        "# Define the list of columns to check\n",
        "columns_to_check = ['Crash Level Event 1 Code', 'Crash Level Event 2 Code', 'Crash Level Event 3 Code']\n",
        "\n",
        "# Check if at least one of the columns has a non-null value for each record\n",
        "valid_records = df[columns_to_check].notnull().any(axis=1)\n",
        "\n",
        "# Check if there are any records where all specified columns are null\n",
        "invalid_records = df[~valid_records]\n",
        "\n",
        "# Check if there are any invalid records\n",
        "if not invalid_records.empty:\n",
        "    print(\"Validation failed: Some records do not have a non-null value in any of the specified columns.\")\n",
        "    # You can print or further process the invalid records\n",
        "    print(\"Invalid records:\")\n",
        "    print(invalid_records)\n",
        "else:\n",
        "    print(\"Validation passed: Each record has a non-null value in at least one of the specified columns.\")"
      ],
      "metadata": {
        "colab": {
          "base_uri": "https://localhost:8080/",
          "height": 0
        },
        "id": "AMvznGPUE-Q0",
        "outputId": "24b773d7-8fa5-48df-f354-158aa4c10d7c"
      },
      "execution_count": 15,
      "outputs": [
        {
          "output_type": "stream",
          "name": "stdout",
          "text": [
            "Validation passed: Each record has a non-null value in at least one of the specified columns.\n"
          ]
        }
      ]
    },
    {
      "cell_type": "code",
      "source": [
        "import pandas as pd\n",
        "\n",
        "# Read the CSV file\n",
        "df = pd.read_csv('/content/selected_columns_data_no_null.csv')\n",
        "\n",
        "# Define the list of columns to check\n",
        "columns_to_check = ['Crash Level Event 1 Code', 'Crash Level Event 2 Code', 'Crash Level Event 3 Code']\n",
        "\n",
        "# Define a dictionary to map column names to corresponding numeric values\n",
        "column_mapping = {\n",
        "    'Crash Level Event 1 Code': 1,\n",
        "    'Crash Level Event 2 Code': 2,\n",
        "    'Crash Level Event 3 Code': 3\n",
        "}\n",
        "\n",
        "# Create a new column 'Crash Level Event' and assign numeric values based on the presence of non-null values in the specified columns\n",
        "df['Crash Level Event'] = df[columns_to_check].apply(lambda row: next((column_mapping[column] for column in columns_to_check if pd.notnull(row[column])), None), axis=1)\n",
        "\n",
        "# Write the modified DataFrame back to a CSV file\n",
        "df.to_csv('modified_dataset.csv', index=False)"
      ],
      "metadata": {
        "id": "3crnpzYhFSBy"
      },
      "execution_count": 16,
      "outputs": []
    },
    {
      "cell_type": "markdown",
      "source": [
        "Limitation Assertion: 1. Every crash occurred on Highway 26"
      ],
      "metadata": {
        "id": "GKKHDMiUFbyD"
      }
    },
    {
      "cell_type": "code",
      "source": [
        "import pandas as pd\n",
        "\n",
        "# Read the CSV file\n",
        "df = pd.read_csv('/content/selected_columns_data_no_null.csv')\n",
        "\n",
        "# Filter the DataFrame to include only rows where the Highway Number is not 26\n",
        "not_highway_26_df = df[df['Highway Number'] != 26]\n",
        "\n",
        "# Check if there are any rows where the Highway Number is not 26\n",
        "if not not_highway_26_df.empty:\n",
        "    print(\"Crash IDs for crashes that did not occur on Highway 26:\")\n",
        "    # Print the Crash IDs for the rows where the Highway Number is not 26\n",
        "    print(not_highway_26_df['Crash ID'].tolist())\n",
        "else:\n",
        "    print(\"Validation passed: Every crash occurred on Highway 26.\")"
      ],
      "metadata": {
        "colab": {
          "base_uri": "https://localhost:8080/",
          "height": 0
        },
        "id": "IBBFK82oFUrM",
        "outputId": "547d79de-cdea-49f5-dd7c-a727db81714d"
      },
      "execution_count": 17,
      "outputs": [
        {
          "output_type": "stream",
          "name": "stdout",
          "text": [
            "Validation passed: Every crash occurred on Highway 26.\n"
          ]
        }
      ]
    },
    {
      "cell_type": "markdown",
      "source": [
        "Limitation Assertion 2. Every crash should have happened between 1-12"
      ],
      "metadata": {
        "id": "z2x7L03FFjVd"
      }
    },
    {
      "cell_type": "code",
      "source": [
        "import pandas as pd\n",
        "\n",
        "df = pd.read_csv('/content/selected_columns_data_no_null.csv')\n",
        "\n",
        "# Filter the DataFrame to include only rows where the Crash Month is not in the range of 1-12\n",
        "invalid_month_df = df[~df['Crash Month'].between(1, 12)]\n",
        "\n",
        "# Check if there are any rows where the Crash Month is not in the range of 1-12\n",
        "if not invalid_month_df.empty:\n",
        "    print(\"Validation failed: Some crashes did not happen between months 1 to 12.\")\n",
        "    # You can print or further process the rows where the validation failed\n",
        "    print(\"Crash IDs for crashes that did not happen between months 1 to 12:\")\n",
        "    print(invalid_month_df['Crash ID'].tolist())\n",
        "else:\n",
        "    print(\"Validation passed: Every crash happened between months 1 to 12.\")"
      ],
      "metadata": {
        "colab": {
          "base_uri": "https://localhost:8080/",
          "height": 0
        },
        "id": "HLhFSIQ5FinH",
        "outputId": "60054f9b-508b-4fe8-a546-71c0f043cd07"
      },
      "execution_count": 18,
      "outputs": [
        {
          "output_type": "stream",
          "name": "stdout",
          "text": [
            "Validation passed: Every crash happened between months 1 to 12.\n"
          ]
        }
      ]
    },
    {
      "cell_type": "markdown",
      "source": [
        "Intra-record assertion 1.For every crash that occurs on the Highway, NHS_FLAG should be 1."
      ],
      "metadata": {
        "id": "w4qho9QKF5an"
      }
    },
    {
      "cell_type": "code",
      "source": [
        "import pandas as pd\n",
        "\n",
        "# Read the CSV file into a DataFrame\n",
        "df = pd.read_csv('/content/selected_columns_data_no_null.csv')\n",
        "\n",
        "# Filter the DataFrame to include only rows where the Highway Number is not null\n",
        "highway_crashes_df = df[df['Highway Number'].notnull()]\n",
        "\n",
        "# Check if there are any rows where the NHS_FLAG is not equal to 1 for highway crashes\n",
        "invalid_nhs_flag_df = highway_crashes_df[highway_crashes_df['NHS Flag'] != 1]\n",
        "\n",
        "# Check if there are any invalid NHS_FLAG values for highway crashes\n",
        "if not invalid_nhs_flag_df.empty:\n",
        "    print(\"Validation failed: Some crashes occurring on the highway have NHS_FLAG values not equal to 1.\")\n",
        "    # Print or further process the rows where the validation failed\n",
        "    print(\"Crash IDs for crashes occurring on the highway with NHS_FLAG values not equal to 1:\")\n",
        "    print(\"Crash ID\\tNHS_FLAG\")\n",
        "    for index, row in invalid_nhs_flag_df.iterrows():\n",
        "        print(row['Crash ID'], '\\t\\t', row['NHS Flag'])\n",
        "else:\n",
        "    print(\"Validation passed: Every crash occurring on the highway has NHS_FLAG equal to 1.\")"
      ],
      "metadata": {
        "colab": {
          "base_uri": "https://localhost:8080/",
          "height": 0
        },
        "id": "raswNctlFnop",
        "outputId": "cc0e3323-7e69-4d01-f1d1-0d9d7c432583"
      },
      "execution_count": 19,
      "outputs": [
        {
          "output_type": "stream",
          "name": "stdout",
          "text": [
            "Validation failed: Some crashes occurring on the highway have NHS_FLAG values not equal to 1.\n",
            "Crash IDs for crashes occurring on the highway with NHS_FLAG values not equal to 1:\n",
            "Crash ID\tNHS_FLAG\n",
            "1834202 \t\t 0.0\n",
            "1834440 \t\t 0.0\n",
            "1834858 \t\t 0.0\n",
            "1839856 \t\t 0.0\n",
            "1840680 \t\t 0.0\n",
            "1841331 \t\t 0.0\n",
            "1841506 \t\t 0.0\n",
            "1843445 \t\t 0.0\n",
            "1843709 \t\t 0.0\n",
            "1845603 \t\t 0.0\n",
            "1847023 \t\t 0.0\n",
            "1847352 \t\t 0.0\n",
            "1847898 \t\t 0.0\n",
            "1848047 \t\t 0.0\n",
            "1849337 \t\t 0.0\n",
            "1849597 \t\t 0.0\n",
            "1851564 \t\t 0.0\n",
            "1854013 \t\t 0.0\n",
            "1854398 \t\t 0.0\n",
            "1854987 \t\t 0.0\n",
            "1856784 \t\t 0.0\n",
            "1857340 \t\t 0.0\n",
            "1858723 \t\t 0.0\n",
            "1859565 \t\t 0.0\n",
            "1860043 \t\t 0.0\n"
          ]
        }
      ]
    },
    {
      "cell_type": "code",
      "source": [
        "import pandas as pd\n",
        "\n",
        "# Read the CSV file into a DataFrame\n",
        "df = pd.read_csv('/content/selected_columns_data_no_null.csv')\n",
        "\n",
        "# Filter the DataFrame to include only rows where the Highway Number is not null\n",
        "valid_highway_crashes_df = df[df['Highway Number'].notnull()]\n",
        "\n",
        "# Filter out the rows where NHS_FLAG is not equal to 1\n",
        "valid_highway_crashes_df = valid_highway_crashes_df[valid_highway_crashes_df['NHS Flag'] == 1]\n",
        "\n",
        "# Check if there are any invalid NHS_FLAG values for highway crashes after filtering\n",
        "if not valid_highway_crashes_df.equals(df):\n",
        "    print(\"Some rows do not follow the rule: NHS_FLAG values are not equal to 1. Discarding those rows...\")\n",
        "    # Print the rows that are discarded\n",
        "    print(\"Discarded rows:\")\n",
        "    print(valid_highway_crashes_df[valid_highway_crashes_df['NHS Flag'] != 1])\n",
        "else:\n",
        "    print(\"Validation passed: Every crash occurring on the highway has NHS_FLAG equal to 1.\")\n",
        "# Check if there are any rows where the NHS_FLAG is not equal to 1 for highway crashes after filtering\n",
        "invalid_nhs_flag_df = valid_highway_crashes_df[valid_highway_crashes_df['NHS Flag'] != 1]\n",
        "\n",
        "# Check if there are any invalid NHS_FLAG values for highway crashes\n",
        "if not invalid_nhs_flag_df.empty:\n",
        "    print(\"Re-validation failed: Some crashes occurring on the highway have NHS_FLAG values not equal to 1 after filtering.\")\n",
        "    # Print or further process the rows where the re-validation failed\n",
        "    print(\"Crash IDs for crashes occurring on the highway with NHS_FLAG values not equal to 1:\")\n",
        "    print(\"Crash ID\\tNHS_FLAG\")\n",
        "    for index, row in invalid_nhs_flag_df.iterrows():\n",
        "        print(row['Crash ID'], '\\t\\t', row['NHS Flag'])\n",
        "else:\n",
        "    print(\"Re-validation passed: Every crash occurring on the highway has NHS_FLAG equal to 1 after filtering.\")"
      ],
      "metadata": {
        "colab": {
          "base_uri": "https://localhost:8080/",
          "height": 0
        },
        "id": "-j6Ma4l8F8zU",
        "outputId": "06dbbc6d-117d-4606-d00c-cd976943a11b"
      },
      "execution_count": 20,
      "outputs": [
        {
          "output_type": "stream",
          "name": "stdout",
          "text": [
            "Some rows do not follow the rule: NHS_FLAG values are not equal to 1. Discarding those rows...\n",
            "Discarded rows:\n",
            "Empty DataFrame\n",
            "Columns: [Crash ID, Record Type, Serial #, Crash Month, Crash Day, Crash Year, Week Day Code, Crash Hour, County Code, City Section ID, Urban Area Code, Functional Class Code, NHS Flag, Highway Number, Roadway Number, Highway Component, Mileage Type, Connection Number, Linear Reference System (LRS), Latitude Degrees, Latitude Minutes, Latitude Seconds, Longitude Degrees, Longitude Minutes, Longitude Seconds, Latitude (Decimal Degrees), Special Jurisdiction, Jurisdiction Group, Street Number, Intersection Sequence Number, Distance from Intersection, Direction From Intersection, Milepoint, Posted Speed Limit, Road Character, Off Roadway Flag, Intersection Type, Intersection Related Flag, Roundabout Flag, Driveway Related Flag, Number of Lanes, Number of Turning Legs, Median Type, Impact Location, Crash Type, Collision Type, Crash Severity, Weather Condition, Road Surface Condition, Light Condition, Traffic Control Device (TCD), TCD Functional Flag, Investigating Agency, Crash Level Event 1 Code, Crash Level Event 2 Code, Crash Level Event 3 Code, Crash Level Cause 1 Code, Crash Level Cause 2 Code, Crash Level Cause 3 Code, School Zone Indicator, Work Zone Indicator, Secondary Crash Indicator, Alcohol-Involved Flag, Drugs Involved Flag, Crash Marijuana Involved Flag, Speed Involved Flag, Crash Level Hit & Run Flag, Population Range Code, Road Control, Route Type, Region ID, District ID, Segment Marker ID, Segment Point LRS Measure, Unlocatable Flag, Total Vehicle Count, Total Fatality Count, Total Suspected Serious Injury (A) Count, Total Suspected Minor Injury (B) Count, Total Possible Injury (C) Count, Total Non-Fatal Injury Count, Total Un-Injured  Children Age 00-04, Total Un-Injured Persons, Total Pedestrian Count, Total Pedestrian Fatality Count, Total Pedestrian Non-Fatal Injury Count, Total Pedalcyclist Count, Total Pedalcyclist Fatality Count, Total Pedalcyclist Non-Fatal Injury Count, Total Unknown Non-Motorist Count, Total Unknown Non-Motorist Fatality Count, Total Unknown Non-Motorist Injury Count, Total Vehicle Occupant Count]\n",
            "Index: []\n",
            "\n",
            "[0 rows x 93 columns]\n",
            "Re-validation passed: Every crash occurring on the highway has NHS_FLAG equal to 1 after filtering.\n"
          ]
        }
      ]
    },
    {
      "cell_type": "markdown",
      "source": [
        "Correction:"
      ],
      "metadata": {
        "id": "9375fH6OGBmQ"
      }
    },
    {
      "cell_type": "code",
      "source": [
        "import pandas as pd\n",
        "\n",
        "# Read the CSV file into a DataFrame\n",
        "df = pd.read_csv('/content/selected_columns_data_no_null.csv')\n",
        "\n",
        "# Replace null values in the 'Speed Involved Flag' column with 'OR'\n",
        "df['Speed Involved Flag'].fillna('OR', inplace=True)\n",
        "\n",
        "# Replace 'US' values with 'OR' in the 'Speed Involved Flag' column\n",
        "df['Speed Involved Flag'] = df['Speed Involved Flag'].replace('US', 'OR')\n",
        "\n",
        "# Re-validate the dataset\n",
        "# Check if there are any rows with 'Speed Involved Flag' values not equal to 'OR'\n",
        "invalid_state_df = df[df['Speed Involved Flag'] != 'OR']\n",
        "\n",
        "# Check if there are any rows with 'Speed Involved Flag' values not equal to 'OR'\n",
        "if not invalid_state_df.empty:\n",
        "    print(\"Validation failed: Some entries with 'Speed Involved Flag' equal to 1 have 'Speed Involved Flag' values other than 'OR'.\")\n",
        "    # Print Crash IDs for the failed rows along with the corresponding 'Speed Involved Flag' values\n",
        "    print(\"Crash IDs and corresponding 'Speed Involved Flag' values for the failed rows:\")\n",
        "    print(\"Crash ID\\tSpeed Involved Flag\")\n",
        "    for index, row in invalid_state_df.iterrows():\n",
        "        print(row['Crash ID'], '\\t\\t', row['Speed Involved Flag'])\n",
        "else:\n",
        "    print(\"Validation passed: All entries with 'Speed Involved Flag' equal to 1 have 'Speed Involved Flag' values equal to 'OR'.\")"
      ],
      "metadata": {
        "colab": {
          "base_uri": "https://localhost:8080/",
          "height": 0
        },
        "id": "-mdmjaQFF_N8",
        "outputId": "8b0a522d-f240-4b1b-b5fd-5a43d77bda43"
      },
      "execution_count": 21,
      "outputs": [
        {
          "output_type": "stream",
          "name": "stdout",
          "text": [
            "Validation passed: All entries with 'Speed Involved Flag' equal to 1 have 'Speed Involved Flag' values equal to 'OR'.\n"
          ]
        }
      ]
    },
    {
      "cell_type": "markdown",
      "source": [
        "All crashes must be in Oregon"
      ],
      "metadata": {
        "id": "4dCsqSmEGIfC"
      }
    },
    {
      "cell_type": "code",
      "source": [
        "import pandas as pd\n",
        "\n",
        "# Read the CSV file into a DataFrame\n",
        "df = pd.read_csv('/content/selected_columns_data_no_null.csv')\n",
        "\n",
        "# Check if there are any rows with 'Speed Involved Flag' values not equal to 'OR'\n",
        "invalid_state_df = df[df['Speed Involved Flag'] != 'OR']\n",
        "\n",
        "# Check if there are any rows with 'Speed Involved Flag' values not equal to 'OR'\n",
        "if not invalid_state_df.empty:\n",
        "    print(\"Validation failed: Some entries with 'Speed Involved Flag' equal to 1 have 'Speed Involved Flag' values other than 'OR'.\")\n",
        "    # Print Crash IDs for the failed rows along with the corresponding 'Speed Involved Flag' values\n",
        "    print(\"Crash IDs and corresponding 'Speed Involved Flag' values for the failed rows:\")\n",
        "    print(\"Crash ID\\tSpeed Involved Flag\")\n",
        "\n",
        "else:\n",
        "    print(\"Validation passed: All entries with 'Speed Involved Flag' equal to 1 have 'Speed Involved Flag' values equal to 'OR'.\")"
      ],
      "metadata": {
        "colab": {
          "base_uri": "https://localhost:8080/",
          "height": 0
        },
        "id": "GrgsFZvLGGZU",
        "outputId": "fb73c44b-4bdf-4550-f06d-1d166cf3e046"
      },
      "execution_count": 22,
      "outputs": [
        {
          "output_type": "stream",
          "name": "stdout",
          "text": [
            "Validation failed: Some entries with 'Speed Involved Flag' equal to 1 have 'Speed Involved Flag' values other than 'OR'.\n",
            "Crash IDs and corresponding 'Speed Involved Flag' values for the failed rows:\n",
            "Crash ID\tSpeed Involved Flag\n"
          ]
        }
      ]
    },
    {
      "cell_type": "markdown",
      "source": [
        "Summary assertion: Verify the average number of vehicles involved in each crash"
      ],
      "metadata": {
        "id": "3XRbK576GPPH"
      }
    },
    {
      "cell_type": "code",
      "source": [
        "import pandas as pd\n",
        "\n",
        "# Read the CSV file into a DataFrame\n",
        "df = pd.read_csv('/content/selected_columns_data_record3.csv')\n",
        "\n",
        "# Calculate the average number of vehicles involved in each crash\n",
        "average_vehicles_involved = df.groupby('Crash ID')['Vehicle ID'].nunique().mean()\n",
        "\n",
        "print(\"The average number of vehicles involved in each crash is:\", average_vehicles_involved)"
      ],
      "metadata": {
        "colab": {
          "base_uri": "https://localhost:8080/",
          "height": 0
        },
        "id": "UQx5vS2-GM0H",
        "outputId": "b952e0a7-6255-4d8e-bc7e-01fc6cb3d287"
      },
      "execution_count": 23,
      "outputs": [
        {
          "output_type": "stream",
          "name": "stdout",
          "text": [
            "The average number of vehicles involved in each crash is: 2.0374015748031495\n"
          ]
        }
      ]
    },
    {
      "cell_type": "markdown",
      "source": [
        "Summary assertion: All crashes should occur in 2019 : Validation failed"
      ],
      "metadata": {
        "id": "qQ70cCg6GT82"
      }
    },
    {
      "cell_type": "code",
      "source": [
        "import pandas as pd\n",
        "\n",
        "# Read the CSV file into a DataFrame\n",
        "df = pd.read_csv('/content/selected_columns_data_no_null.csv')\n",
        "\n",
        "# Check if there are any rows where the 'Crash Year' column is not equal to 2019\n",
        "invalid_year_df = df[df['Crash Year'] != 2019]\n",
        "\n",
        "# Check if there are any discrepancies in the year\n",
        "if not invalid_year_df.empty:\n",
        "    print(\"Validation failed: Some crashes do not occur in the year 2019.\")\n",
        "    # Print Crash IDs for the failed rows\n",
        "    print(\"Crash IDs for the failed rows:\")\n",
        "    print(invalid_year_df['Crash ID'].tolist())\n",
        "else:\n",
        "    print(\"Validation passed: All crashes occur in the year 2019.\")"
      ],
      "metadata": {
        "colab": {
          "base_uri": "https://localhost:8080/",
          "height": 0
        },
        "id": "V0gjzXiOGR0k",
        "outputId": "b61f858a-d029-4ba9-827f-1f6dc1f50df5"
      },
      "execution_count": 24,
      "outputs": [
        {
          "output_type": "stream",
          "name": "stdout",
          "text": [
            "Validation passed: All crashes occur in the year 2019.\n"
          ]
        }
      ]
    },
    {
      "cell_type": "markdown",
      "source": [
        "Statistical distribution assertion: Distribution of the crash based on the day (which day from Monday-Sunday)"
      ],
      "metadata": {
        "id": "Z3dJ4MekGa35"
      }
    },
    {
      "cell_type": "code",
      "source": [
        "import pandas as pd\n",
        "\n",
        "# Read the CSV file into a DataFrame\n",
        "df = pd.read_csv('/content/selected_columns_data_no_null.csv')\n",
        "\n",
        "# Map the week day code (1-7) to day names\n",
        "day_names = {1: 'Monday', 2: 'Tuesday', 3: 'Wednesday', 4: 'Thursday', 5: 'Friday', 6: 'Saturday', 7: 'Sunday'}\n",
        "\n",
        "# Convert the 'Week Day Code' column to day names\n",
        "df['Crash Date'] = df['Week Day Code'].map(day_names)\n",
        "\n",
        "# Count the crashes for each day of the week\n",
        "crashes_by_day = df['Crash Date'].value_counts().sort_index()\n",
        "\n",
        "# Print the distribution of crashes based on the day of the week\n",
        "print(\"Distribution of crashes based on the day of the week:\")\n",
        "print(crashes_by_day)"
      ],
      "metadata": {
        "colab": {
          "base_uri": "https://localhost:8080/",
          "height": 0
        },
        "id": "47sVBf1SGXbS",
        "outputId": "2ca797c6-f1f0-46a3-dec4-6e19f2800242"
      },
      "execution_count": 25,
      "outputs": [
        {
          "output_type": "stream",
          "name": "stdout",
          "text": [
            "Distribution of crashes based on the day of the week:\n",
            "Crash Date\n",
            "Friday       68\n",
            "Monday       60\n",
            "Saturday     77\n",
            "Sunday       83\n",
            "Thursday     74\n",
            "Tuesday      71\n",
            "Wednesday    75\n",
            "Name: count, dtype: int64\n"
          ]
        }
      ]
    },
    {
      "cell_type": "markdown",
      "source": [
        "If there is a crash ID there must be a record type."
      ],
      "metadata": {
        "id": "vk8MuKQeGgQP"
      }
    },
    {
      "cell_type": "code",
      "source": [
        "import pandas as pd\n",
        "\n",
        "# Define the file URL\n",
        "file_url = 'https://drive.google.com/uc?id=1A_R4rDgJsII7wL-onaPeodvv07rPk1SX'\n",
        "\n",
        "# Read the CSV file into a DataFrame\n",
        "df = pd.read_csv(file_url)\n",
        "\n",
        "# Check for any null values in the 'Record Type' column grouped by 'Crash ID'\n",
        "crash_id_with_null_record_type = df[df['Record Type'].isnull()]['Crash ID'].unique()\n",
        "\n",
        "# Check if there are any crash IDs with null 'Record Type'\n",
        "if len(crash_id_with_null_record_type) > 0:\n",
        "    print(\"Validation failed: There are crash IDs with missing record types.\")\n",
        "    # Print the crash IDs with missing record types\n",
        "    print(\"Crash IDs with missing record types:\")\n",
        "    print(crash_id_with_null_record_type)\n",
        "else:\n",
        "    print(\"Validation passed: All crash IDs have associated record types.\")"
      ],
      "metadata": {
        "colab": {
          "base_uri": "https://localhost:8080/",
          "height": 0
        },
        "id": "iu0Z8PE5GeBg",
        "outputId": "0e03519d-43d2-4144-b99a-45de93330680"
      },
      "execution_count": 26,
      "outputs": [
        {
          "output_type": "stream",
          "name": "stdout",
          "text": [
            "Validation passed: All crash IDs have associated record types.\n"
          ]
        }
      ]
    },
    {
      "cell_type": "markdown",
      "source": [
        "Every Vehicle ID listed in the crash data is associated with at least one Participant ID."
      ],
      "metadata": {
        "id": "P362rutmGns3"
      }
    },
    {
      "cell_type": "code",
      "source": [
        "import pandas as pd\n",
        "\n",
        "# Read the CSV file into a DataFrame\n",
        "df = pd.read_csv('/content/selected_columns_data_no_null_record3.csv')\n",
        "\n",
        "# Check for any Vehicle IDs that do not have corresponding Participant IDs\n",
        "vehicle_ids_without_participant_ids = df[df['Participant ID'].isnull()]['Vehicle ID'].unique()\n",
        "\n",
        "# Check if there are any Vehicle IDs without Participant IDs\n",
        "if len(vehicle_ids_without_participant_ids) > 0:\n",
        "    print(\"Validation failed: Some Vehicle IDs do not have corresponding Participant IDs.\")\n",
        "    # Print the Vehicle IDs without Participant IDs\n",
        "    print(\"Vehicle IDs without Participant IDs:\")\n",
        "    print(vehicle_ids_without_participant_ids)\n",
        "else:\n",
        "    print(\"Validation passed: Every Vehicle ID listed in the crash data is associated with at least one Participant ID.\")"
      ],
      "metadata": {
        "colab": {
          "base_uri": "https://localhost:8080/",
          "height": 0
        },
        "id": "HNsbijy2GlH_",
        "outputId": "0efd3fe3-d7c6-4d82-a7c4-30d872c847d3"
      },
      "execution_count": 27,
      "outputs": [
        {
          "output_type": "stream",
          "name": "stdout",
          "text": [
            "Validation passed: Every Vehicle ID listed in the crash data is associated with at least one Participant ID.\n"
          ]
        }
      ]
    },
    {
      "cell_type": "markdown",
      "source": [
        "Statistical distribution assertion:The number of collisions is highest in the month of June among all the months"
      ],
      "metadata": {
        "id": "tbezzdyvGtj3"
      }
    },
    {
      "cell_type": "code",
      "source": [
        "import pandas as pd\n",
        "\n",
        "# Read the CSV file into a DataFrame\n",
        "df = pd.read_csv('/content/selected_columns_data_no_null.csv')\n",
        "\n",
        "# Group the data by 'Crash Month' and count the number of collisions in each month\n",
        "monthly_collisions = df.groupby('Crash Month').size()\n",
        "\n",
        "# Find the month with the highest number of collisions\n",
        "highest_collision_month = monthly_collisions.idxmax()\n",
        "\n",
        "# Get the data for the month with the highest number of collisions\n",
        "highest_collision_data = df[df['Crash Month'] == highest_collision_month]\n",
        "\n",
        "# Print the month with the highest number of collisions\n",
        "print(\"The month with the highest number of collisions is:\", highest_collision_month)"
      ],
      "metadata": {
        "colab": {
          "base_uri": "https://localhost:8080/",
          "height": 0
        },
        "id": "0vIwfRaKGqbe",
        "outputId": "f0d3cbee-71a8-47d0-f8da-3304cb8cfe5b"
      },
      "execution_count": 28,
      "outputs": [
        {
          "output_type": "stream",
          "name": "stdout",
          "text": [
            "The month with the highest number of collisions is: 3.0\n"
          ]
        }
      ]
    },
    {
      "cell_type": "code",
      "source": [
        "import pandas as pd\n",
        "\n",
        "# Read the CSV file\n",
        "df = pd.read_csv('/content/selected_columns_data_no_null.csv')\n",
        "\n",
        "# Calculate the expected total pedestrian count\n",
        "expected_pedestrian_count = df['Total Pedestrian Fatality Count'] + df['Total Pedestrian Non-Fatal Injury Count']\n",
        "\n",
        "# Check for discrepancy between total and calculated values\n",
        "discrepancy = df['Total Pedestrian Count'] - expected_pedestrian_count\n",
        "\n",
        "# Filter rows with discrepancy and select relevant columns\n",
        "discrepant_rows = df[discrepancy != 0][['Crash ID', 'Total Pedestrian Count', 'Total Pedestrian Fatality Count', 'Total Pedestrian Non-Fatal Injury Count']]\n",
        "\n",
        "# Print informative message\n",
        "if discrepancy.sum() == 0:\n",
        "    print(\"No discrepancy found.\")\n",
        "else:\n",
        "    print(\"Discrepancy found between Total Pedestrian Count and calculated value:\")\n",
        "    print(discrepant_rows.to_string(index=False))"
      ],
      "metadata": {
        "colab": {
          "base_uri": "https://localhost:8080/",
          "height": 0
        },
        "id": "HC78jzZqGyU7",
        "outputId": "a30c31b0-ef33-444a-81a4-64cb31794ffc"
      },
      "execution_count": 29,
      "outputs": [
        {
          "output_type": "stream",
          "name": "stdout",
          "text": [
            "Discrepancy found between Total Pedestrian Count and calculated value:\n",
            " Crash ID  Total Pedestrian Count  Total Pedestrian Fatality Count  Total Pedestrian Non-Fatal Injury Count\n",
            "  1840135                     0.0                              1.0                                      0.0\n",
            "  1841157                     0.0                              1.0                                      0.0\n",
            "  1852828                     0.0                              1.0                                      0.0\n",
            "  1854286                     0.0                              1.0                                      0.0\n"
          ]
        }
      ]
    },
    {
      "cell_type": "markdown",
      "source": [
        "The values in 'Crash Year', 'Crash Month', and 'Crash Day' columns should represent a valid date : Validation passes"
      ],
      "metadata": {
        "id": "8nCeg-PYG3uT"
      }
    },
    {
      "cell_type": "code",
      "source": [
        "import pandas as pd\n",
        "from datetime import datetime\n",
        "\n",
        "# Read the CSV file\n",
        "df = pd.read_csv('/content/selected_columns_data_no_null.csv')\n",
        "\n",
        "# Function to check for valid date (with integer conversion)\n",
        "def is_valid_date(row):\n",
        "  try:\n",
        "    # Cast year, month, and day to integers before conversion\n",
        "    year = int(row['Crash Year'])\n",
        "    month = int(row['Crash Month'])\n",
        "    day = int(row['Crash Day'])\n",
        "    # Combine and convert to datetime object\n",
        "    date_string = f\"{year}-{month}-{day}\"\n",
        "    datetime.strptime(date_string, \"%Y-%m-%d\")\n",
        "    return True\n",
        "  except ValueError:\n",
        "    return False\n",
        "\n",
        "# Apply the function to each row and filter for invalid dates\n",
        "invalid_dates = df[~df.apply(is_valid_date, axis=1)]\n",
        "\n",
        "if not invalid_dates.empty:\n",
        "  print(\"Assertion failed: Some crash records still have invalid dates.\")\n",
        "  print(invalid_dates[['Crash ID', 'Crash Year', 'Crash Month', 'Crash Day']])\n",
        "else:\n",
        "  print(\"Assertion passed: All crash records now have valid dates (after conversion to integers).\")"
      ],
      "metadata": {
        "colab": {
          "base_uri": "https://localhost:8080/",
          "height": 0
        },
        "id": "7GpZ0xiOG0r-",
        "outputId": "b8725a77-a306-4552-8c65-658c6536b564"
      },
      "execution_count": 30,
      "outputs": [
        {
          "output_type": "stream",
          "name": "stdout",
          "text": [
            "Assertion passed: All crash records now have valid dates (after conversion to integers).\n"
          ]
        }
      ]
    }
  ]
}