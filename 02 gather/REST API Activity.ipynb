{
 "cells": [
  {
   "cell_type": "code",
   "execution_count": 1,
   "id": "db112db0",
   "metadata": {},
   "outputs": [],
   "source": [
    "import requests\n",
    "from datetime import datetime\n",
    "\n",
    "def get_current_weather(api_key, city, country_code):\n",
    "    url = f\"https://api.openweathermap.org/data/2.5/weather?q={city},{country_code}&appid={api_key}\"\n",
    "    response = requests.get(url)\n",
    "    if response.status_code != 200:\n",
    "        print(\"Failed to retrieve data:\", response.text)\n",
    "        return None\n",
    "    return response.json()"
   ]
  },
  {
   "cell_type": "code",
   "execution_count": 2,
   "id": "78989f8b",
   "metadata": {},
   "outputs": [
    {
     "name": "stdout",
     "output_type": "stream",
     "text": [
      "Is it currently raining in Portland, US? No\n",
      "Enter the date and time of your next DE class (format: YYYY-MM-DD HH:MM): 2024-04-16 18:40\n",
      "Will it be raining during your next class? No\n",
      "Enter the city name and country code to get current weather. Example: London,UK\n",
      "City and country code: Portland,US\n",
      "Current weather in Portland (US): broken clouds.\n"
     ]
    }
   ],
   "source": [
    "def check_if_raining(weather_data):\n",
    "    weather_conditions = [weather['main'] for weather in weather_data['weather']]\n",
    "    return 'Rain' in weather_conditions\n",
    "\n",
    "def main():\n",
    "    API_KEY = '2eff98d106fef3b1562d707f4b86d6be'\n",
    "    CITY = \"Portland\"\n",
    "    COUNTRY_CODE = \"US\"\n",
    "\n",
    "    weather_data = get_current_weather(API_KEY, CITY, COUNTRY_CODE)\n",
    "    if weather_data:\n",
    "        is_raining = check_if_raining(weather_data)\n",
    "        print(f\"Is it currently raining in {CITY}, {COUNTRY_CODE}? {'Yes' if is_raining else 'No'}\")\n",
    "\n",
    "    next_class_datetime = input(\"Enter the date and time of your next DE class (format: YYYY-MM-DD HH:MM): \")\n",
    "    try:\n",
    "        next_class_time = datetime.strptime(next_class_datetime, '%Y-%m-%d %H:%M')\n",
    "        print(f\"Will it be raining during your next class? {'Yes' if is_raining else 'No'}\")\n",
    "    except ValueError:\n",
    "        print(\"Invalid date format. Please use the format 'YYYY-MM-DD HH:MM'.\")\n",
    "\n",
    "    print(\"Enter the city name and country code to get current weather. Example: London,UK\")\n",
    "    user_city_input = input(\"City and country code: \")\n",
    "    try:\n",
    "        city, country = user_city_input.split(',')\n",
    "        city_weather_data = get_current_weather(API_KEY, city.strip(), country.strip())\n",
    "        if city_weather_data:\n",
    "            print(f\"Current weather in {city.strip()} ({country.strip()}): {city_weather_data['weather'][0]['description']}.\")\n",
    "    except ValueError:\n",
    "        print(\"Please enter the city and country code separated by a comma.\")\n",
    "if __name__ == \"__main__\":\n",
    "    main()"
   ]
  }
 ],
 "metadata": {
  "kernelspec": {
   "display_name": "Python 3 (ipykernel)",
   "language": "python",
   "name": "python3"
  },
  "language_info": {
   "codemirror_mode": {
    "name": "ipython",
    "version": 3
   },
   "file_extension": ".py",
   "mimetype": "text/x-python",
   "name": "python",
   "nbconvert_exporter": "python",
   "pygments_lexer": "ipython3",
   "version": "3.9.7"
  }
 },
 "nbformat": 4,
 "nbformat_minor": 5
}
