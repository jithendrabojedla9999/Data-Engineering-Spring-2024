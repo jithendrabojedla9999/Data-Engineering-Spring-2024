{
  "nbformat": 4,
  "nbformat_minor": 0,
  "metadata": {
    "colab": {
      "provenance": []
    },
    "kernelspec": {
      "name": "python3",
      "display_name": "Python 3"
    },
    "language_info": {
      "name": "python"
    }
  },
  "cells": [
    {
      "cell_type": "code",
      "execution_count": 3,
      "metadata": {
        "colab": {
          "base_uri": "https://localhost:8080/"
        },
        "id": "udeueItJKdvX",
        "outputId": "36be9147-849d-45e4-a28e-a22c07d60197"
      },
      "outputs": [
        {
          "output_type": "stream",
          "name": "stdout",
          "text": [
            "Drive already mounted at /content/drive; to attempt to forcibly remount, call drive.mount(\"/content/drive\", force_remount=True).\n"
          ]
        }
      ],
      "source": [
        "#Mount to drive\n",
        "import pandas as pd\n",
        "from google.colab import drive\n",
        "drive.mount('/content/drive')"
      ]
    },
    {
      "cell_type": "code",
      "source": [
        "data = pd.read_csv(\"/content/drive/MyDrive/bc_trip259172515_230215.csv\")\n",
        "data"
      ],
      "metadata": {
        "colab": {
          "base_uri": "https://localhost:8080/",
          "height": 423
        },
        "id": "0gfGi92sK2_F",
        "outputId": "351b1be6-85bb-4b1f-ffd9-f50b67cfde6e"
      },
      "execution_count": 5,
      "outputs": [
        {
          "output_type": "execute_result",
          "data": {
            "text/plain": [
              "     EVENT_NO_TRIP  EVENT_NO_STOP            OPD_DATE  VEHICLE_ID  METERS  \\\n",
              "0        259172515      259172517  15FEB2023:00:00:00        4223      40   \n",
              "1        259172515      259172517  15FEB2023:00:00:00        4223      48   \n",
              "2        259172515      259172517  15FEB2023:00:00:00        4223      57   \n",
              "3        259172515      259172517  15FEB2023:00:00:00        4223      73   \n",
              "4        259172515      259172517  15FEB2023:00:00:00        4223     112   \n",
              "..             ...            ...                 ...         ...     ...   \n",
              "156      259172515      259172530  15FEB2023:00:00:00        4223    5834   \n",
              "157      259172515      259172531  15FEB2023:00:00:00        4223    5838   \n",
              "158      259172515      259172531  15FEB2023:00:00:00        4223    5858   \n",
              "159      259172515      259172531  15FEB2023:00:00:00        4223    5889   \n",
              "160      259172515      259172531  15FEB2023:00:00:00        4223    5918   \n",
              "\n",
              "     ACT_TIME  GPS_LONGITUDE  GPS_LATITUDE  GPS_SATELLITES  GPS_HDOP  \n",
              "0       20469    -122.648137     45.493082              12       0.7  \n",
              "1       20474    -122.648240     45.493070              12       0.8  \n",
              "2       20479    -122.648352     45.493123              12       0.8  \n",
              "3       20484    -122.648385     45.493262              12       0.7  \n",
              "4       20489    -122.648347     45.493582              12       0.8  \n",
              "..        ...            ...           ...             ...       ...  \n",
              "156     21389    -122.677057     45.528040              11       0.8  \n",
              "157     21424    -122.677003     45.528037               6       2.0  \n",
              "158     21429    -122.676765     45.528043               7       1.1  \n",
              "159     21434    -122.676370     45.528047              10       1.1  \n",
              "160     21439    -122.675990     45.528065              11       0.8  \n",
              "\n",
              "[161 rows x 10 columns]"
            ],
            "text/html": [
              "\n",
              "  <div id=\"df-01cf35c8-b7d9-45ab-bde3-649916708598\" class=\"colab-df-container\">\n",
              "    <div>\n",
              "<style scoped>\n",
              "    .dataframe tbody tr th:only-of-type {\n",
              "        vertical-align: middle;\n",
              "    }\n",
              "\n",
              "    .dataframe tbody tr th {\n",
              "        vertical-align: top;\n",
              "    }\n",
              "\n",
              "    .dataframe thead th {\n",
              "        text-align: right;\n",
              "    }\n",
              "</style>\n",
              "<table border=\"1\" class=\"dataframe\">\n",
              "  <thead>\n",
              "    <tr style=\"text-align: right;\">\n",
              "      <th></th>\n",
              "      <th>EVENT_NO_TRIP</th>\n",
              "      <th>EVENT_NO_STOP</th>\n",
              "      <th>OPD_DATE</th>\n",
              "      <th>VEHICLE_ID</th>\n",
              "      <th>METERS</th>\n",
              "      <th>ACT_TIME</th>\n",
              "      <th>GPS_LONGITUDE</th>\n",
              "      <th>GPS_LATITUDE</th>\n",
              "      <th>GPS_SATELLITES</th>\n",
              "      <th>GPS_HDOP</th>\n",
              "    </tr>\n",
              "  </thead>\n",
              "  <tbody>\n",
              "    <tr>\n",
              "      <th>0</th>\n",
              "      <td>259172515</td>\n",
              "      <td>259172517</td>\n",
              "      <td>15FEB2023:00:00:00</td>\n",
              "      <td>4223</td>\n",
              "      <td>40</td>\n",
              "      <td>20469</td>\n",
              "      <td>-122.648137</td>\n",
              "      <td>45.493082</td>\n",
              "      <td>12</td>\n",
              "      <td>0.7</td>\n",
              "    </tr>\n",
              "    <tr>\n",
              "      <th>1</th>\n",
              "      <td>259172515</td>\n",
              "      <td>259172517</td>\n",
              "      <td>15FEB2023:00:00:00</td>\n",
              "      <td>4223</td>\n",
              "      <td>48</td>\n",
              "      <td>20474</td>\n",
              "      <td>-122.648240</td>\n",
              "      <td>45.493070</td>\n",
              "      <td>12</td>\n",
              "      <td>0.8</td>\n",
              "    </tr>\n",
              "    <tr>\n",
              "      <th>2</th>\n",
              "      <td>259172515</td>\n",
              "      <td>259172517</td>\n",
              "      <td>15FEB2023:00:00:00</td>\n",
              "      <td>4223</td>\n",
              "      <td>57</td>\n",
              "      <td>20479</td>\n",
              "      <td>-122.648352</td>\n",
              "      <td>45.493123</td>\n",
              "      <td>12</td>\n",
              "      <td>0.8</td>\n",
              "    </tr>\n",
              "    <tr>\n",
              "      <th>3</th>\n",
              "      <td>259172515</td>\n",
              "      <td>259172517</td>\n",
              "      <td>15FEB2023:00:00:00</td>\n",
              "      <td>4223</td>\n",
              "      <td>73</td>\n",
              "      <td>20484</td>\n",
              "      <td>-122.648385</td>\n",
              "      <td>45.493262</td>\n",
              "      <td>12</td>\n",
              "      <td>0.7</td>\n",
              "    </tr>\n",
              "    <tr>\n",
              "      <th>4</th>\n",
              "      <td>259172515</td>\n",
              "      <td>259172517</td>\n",
              "      <td>15FEB2023:00:00:00</td>\n",
              "      <td>4223</td>\n",
              "      <td>112</td>\n",
              "      <td>20489</td>\n",
              "      <td>-122.648347</td>\n",
              "      <td>45.493582</td>\n",
              "      <td>12</td>\n",
              "      <td>0.8</td>\n",
              "    </tr>\n",
              "    <tr>\n",
              "      <th>...</th>\n",
              "      <td>...</td>\n",
              "      <td>...</td>\n",
              "      <td>...</td>\n",
              "      <td>...</td>\n",
              "      <td>...</td>\n",
              "      <td>...</td>\n",
              "      <td>...</td>\n",
              "      <td>...</td>\n",
              "      <td>...</td>\n",
              "      <td>...</td>\n",
              "    </tr>\n",
              "    <tr>\n",
              "      <th>156</th>\n",
              "      <td>259172515</td>\n",
              "      <td>259172530</td>\n",
              "      <td>15FEB2023:00:00:00</td>\n",
              "      <td>4223</td>\n",
              "      <td>5834</td>\n",
              "      <td>21389</td>\n",
              "      <td>-122.677057</td>\n",
              "      <td>45.528040</td>\n",
              "      <td>11</td>\n",
              "      <td>0.8</td>\n",
              "    </tr>\n",
              "    <tr>\n",
              "      <th>157</th>\n",
              "      <td>259172515</td>\n",
              "      <td>259172531</td>\n",
              "      <td>15FEB2023:00:00:00</td>\n",
              "      <td>4223</td>\n",
              "      <td>5838</td>\n",
              "      <td>21424</td>\n",
              "      <td>-122.677003</td>\n",
              "      <td>45.528037</td>\n",
              "      <td>6</td>\n",
              "      <td>2.0</td>\n",
              "    </tr>\n",
              "    <tr>\n",
              "      <th>158</th>\n",
              "      <td>259172515</td>\n",
              "      <td>259172531</td>\n",
              "      <td>15FEB2023:00:00:00</td>\n",
              "      <td>4223</td>\n",
              "      <td>5858</td>\n",
              "      <td>21429</td>\n",
              "      <td>-122.676765</td>\n",
              "      <td>45.528043</td>\n",
              "      <td>7</td>\n",
              "      <td>1.1</td>\n",
              "    </tr>\n",
              "    <tr>\n",
              "      <th>159</th>\n",
              "      <td>259172515</td>\n",
              "      <td>259172531</td>\n",
              "      <td>15FEB2023:00:00:00</td>\n",
              "      <td>4223</td>\n",
              "      <td>5889</td>\n",
              "      <td>21434</td>\n",
              "      <td>-122.676370</td>\n",
              "      <td>45.528047</td>\n",
              "      <td>10</td>\n",
              "      <td>1.1</td>\n",
              "    </tr>\n",
              "    <tr>\n",
              "      <th>160</th>\n",
              "      <td>259172515</td>\n",
              "      <td>259172531</td>\n",
              "      <td>15FEB2023:00:00:00</td>\n",
              "      <td>4223</td>\n",
              "      <td>5918</td>\n",
              "      <td>21439</td>\n",
              "      <td>-122.675990</td>\n",
              "      <td>45.528065</td>\n",
              "      <td>11</td>\n",
              "      <td>0.8</td>\n",
              "    </tr>\n",
              "  </tbody>\n",
              "</table>\n",
              "<p>161 rows × 10 columns</p>\n",
              "</div>\n",
              "    <div class=\"colab-df-buttons\">\n",
              "\n",
              "  <div class=\"colab-df-container\">\n",
              "    <button class=\"colab-df-convert\" onclick=\"convertToInteractive('df-01cf35c8-b7d9-45ab-bde3-649916708598')\"\n",
              "            title=\"Convert this dataframe to an interactive table.\"\n",
              "            style=\"display:none;\">\n",
              "\n",
              "  <svg xmlns=\"http://www.w3.org/2000/svg\" height=\"24px\" viewBox=\"0 -960 960 960\">\n",
              "    <path d=\"M120-120v-720h720v720H120Zm60-500h600v-160H180v160Zm220 220h160v-160H400v160Zm0 220h160v-160H400v160ZM180-400h160v-160H180v160Zm440 0h160v-160H620v160ZM180-180h160v-160H180v160Zm440 0h160v-160H620v160Z\"/>\n",
              "  </svg>\n",
              "    </button>\n",
              "\n",
              "  <style>\n",
              "    .colab-df-container {\n",
              "      display:flex;\n",
              "      gap: 12px;\n",
              "    }\n",
              "\n",
              "    .colab-df-convert {\n",
              "      background-color: #E8F0FE;\n",
              "      border: none;\n",
              "      border-radius: 50%;\n",
              "      cursor: pointer;\n",
              "      display: none;\n",
              "      fill: #1967D2;\n",
              "      height: 32px;\n",
              "      padding: 0 0 0 0;\n",
              "      width: 32px;\n",
              "    }\n",
              "\n",
              "    .colab-df-convert:hover {\n",
              "      background-color: #E2EBFA;\n",
              "      box-shadow: 0px 1px 2px rgba(60, 64, 67, 0.3), 0px 1px 3px 1px rgba(60, 64, 67, 0.15);\n",
              "      fill: #174EA6;\n",
              "    }\n",
              "\n",
              "    .colab-df-buttons div {\n",
              "      margin-bottom: 4px;\n",
              "    }\n",
              "\n",
              "    [theme=dark] .colab-df-convert {\n",
              "      background-color: #3B4455;\n",
              "      fill: #D2E3FC;\n",
              "    }\n",
              "\n",
              "    [theme=dark] .colab-df-convert:hover {\n",
              "      background-color: #434B5C;\n",
              "      box-shadow: 0px 1px 3px 1px rgba(0, 0, 0, 0.15);\n",
              "      filter: drop-shadow(0px 1px 2px rgba(0, 0, 0, 0.3));\n",
              "      fill: #FFFFFF;\n",
              "    }\n",
              "  </style>\n",
              "\n",
              "    <script>\n",
              "      const buttonEl =\n",
              "        document.querySelector('#df-01cf35c8-b7d9-45ab-bde3-649916708598 button.colab-df-convert');\n",
              "      buttonEl.style.display =\n",
              "        google.colab.kernel.accessAllowed ? 'block' : 'none';\n",
              "\n",
              "      async function convertToInteractive(key) {\n",
              "        const element = document.querySelector('#df-01cf35c8-b7d9-45ab-bde3-649916708598');\n",
              "        const dataTable =\n",
              "          await google.colab.kernel.invokeFunction('convertToInteractive',\n",
              "                                                    [key], {});\n",
              "        if (!dataTable) return;\n",
              "\n",
              "        const docLinkHtml = 'Like what you see? Visit the ' +\n",
              "          '<a target=\"_blank\" href=https://colab.research.google.com/notebooks/data_table.ipynb>data table notebook</a>'\n",
              "          + ' to learn more about interactive tables.';\n",
              "        element.innerHTML = '';\n",
              "        dataTable['output_type'] = 'display_data';\n",
              "        await google.colab.output.renderOutput(dataTable, element);\n",
              "        const docLink = document.createElement('div');\n",
              "        docLink.innerHTML = docLinkHtml;\n",
              "        element.appendChild(docLink);\n",
              "      }\n",
              "    </script>\n",
              "  </div>\n",
              "\n",
              "\n",
              "<div id=\"df-3ca8f533-b08b-4cec-bfe9-253c929178b7\">\n",
              "  <button class=\"colab-df-quickchart\" onclick=\"quickchart('df-3ca8f533-b08b-4cec-bfe9-253c929178b7')\"\n",
              "            title=\"Suggest charts\"\n",
              "            style=\"display:none;\">\n",
              "\n",
              "<svg xmlns=\"http://www.w3.org/2000/svg\" height=\"24px\"viewBox=\"0 0 24 24\"\n",
              "     width=\"24px\">\n",
              "    <g>\n",
              "        <path d=\"M19 3H5c-1.1 0-2 .9-2 2v14c0 1.1.9 2 2 2h14c1.1 0 2-.9 2-2V5c0-1.1-.9-2-2-2zM9 17H7v-7h2v7zm4 0h-2V7h2v10zm4 0h-2v-4h2v4z\"/>\n",
              "    </g>\n",
              "</svg>\n",
              "  </button>\n",
              "\n",
              "<style>\n",
              "  .colab-df-quickchart {\n",
              "      --bg-color: #E8F0FE;\n",
              "      --fill-color: #1967D2;\n",
              "      --hover-bg-color: #E2EBFA;\n",
              "      --hover-fill-color: #174EA6;\n",
              "      --disabled-fill-color: #AAA;\n",
              "      --disabled-bg-color: #DDD;\n",
              "  }\n",
              "\n",
              "  [theme=dark] .colab-df-quickchart {\n",
              "      --bg-color: #3B4455;\n",
              "      --fill-color: #D2E3FC;\n",
              "      --hover-bg-color: #434B5C;\n",
              "      --hover-fill-color: #FFFFFF;\n",
              "      --disabled-bg-color: #3B4455;\n",
              "      --disabled-fill-color: #666;\n",
              "  }\n",
              "\n",
              "  .colab-df-quickchart {\n",
              "    background-color: var(--bg-color);\n",
              "    border: none;\n",
              "    border-radius: 50%;\n",
              "    cursor: pointer;\n",
              "    display: none;\n",
              "    fill: var(--fill-color);\n",
              "    height: 32px;\n",
              "    padding: 0;\n",
              "    width: 32px;\n",
              "  }\n",
              "\n",
              "  .colab-df-quickchart:hover {\n",
              "    background-color: var(--hover-bg-color);\n",
              "    box-shadow: 0 1px 2px rgba(60, 64, 67, 0.3), 0 1px 3px 1px rgba(60, 64, 67, 0.15);\n",
              "    fill: var(--button-hover-fill-color);\n",
              "  }\n",
              "\n",
              "  .colab-df-quickchart-complete:disabled,\n",
              "  .colab-df-quickchart-complete:disabled:hover {\n",
              "    background-color: var(--disabled-bg-color);\n",
              "    fill: var(--disabled-fill-color);\n",
              "    box-shadow: none;\n",
              "  }\n",
              "\n",
              "  .colab-df-spinner {\n",
              "    border: 2px solid var(--fill-color);\n",
              "    border-color: transparent;\n",
              "    border-bottom-color: var(--fill-color);\n",
              "    animation:\n",
              "      spin 1s steps(1) infinite;\n",
              "  }\n",
              "\n",
              "  @keyframes spin {\n",
              "    0% {\n",
              "      border-color: transparent;\n",
              "      border-bottom-color: var(--fill-color);\n",
              "      border-left-color: var(--fill-color);\n",
              "    }\n",
              "    20% {\n",
              "      border-color: transparent;\n",
              "      border-left-color: var(--fill-color);\n",
              "      border-top-color: var(--fill-color);\n",
              "    }\n",
              "    30% {\n",
              "      border-color: transparent;\n",
              "      border-left-color: var(--fill-color);\n",
              "      border-top-color: var(--fill-color);\n",
              "      border-right-color: var(--fill-color);\n",
              "    }\n",
              "    40% {\n",
              "      border-color: transparent;\n",
              "      border-right-color: var(--fill-color);\n",
              "      border-top-color: var(--fill-color);\n",
              "    }\n",
              "    60% {\n",
              "      border-color: transparent;\n",
              "      border-right-color: var(--fill-color);\n",
              "    }\n",
              "    80% {\n",
              "      border-color: transparent;\n",
              "      border-right-color: var(--fill-color);\n",
              "      border-bottom-color: var(--fill-color);\n",
              "    }\n",
              "    90% {\n",
              "      border-color: transparent;\n",
              "      border-bottom-color: var(--fill-color);\n",
              "    }\n",
              "  }\n",
              "</style>\n",
              "\n",
              "  <script>\n",
              "    async function quickchart(key) {\n",
              "      const quickchartButtonEl =\n",
              "        document.querySelector('#' + key + ' button');\n",
              "      quickchartButtonEl.disabled = true;  // To prevent multiple clicks.\n",
              "      quickchartButtonEl.classList.add('colab-df-spinner');\n",
              "      try {\n",
              "        const charts = await google.colab.kernel.invokeFunction(\n",
              "            'suggestCharts', [key], {});\n",
              "      } catch (error) {\n",
              "        console.error('Error during call to suggestCharts:', error);\n",
              "      }\n",
              "      quickchartButtonEl.classList.remove('colab-df-spinner');\n",
              "      quickchartButtonEl.classList.add('colab-df-quickchart-complete');\n",
              "    }\n",
              "    (() => {\n",
              "      let quickchartButtonEl =\n",
              "        document.querySelector('#df-3ca8f533-b08b-4cec-bfe9-253c929178b7 button');\n",
              "      quickchartButtonEl.style.display =\n",
              "        google.colab.kernel.accessAllowed ? 'block' : 'none';\n",
              "    })();\n",
              "  </script>\n",
              "</div>\n",
              "    </div>\n",
              "  </div>\n"
            ],
            "application/vnd.google.colaboratory.intrinsic+json": {
              "type": "dataframe",
              "variable_name": "data",
              "summary": "{\n  \"name\": \"data\",\n  \"rows\": 161,\n  \"fields\": [\n    {\n      \"column\": \"EVENT_NO_TRIP\",\n      \"properties\": {\n        \"dtype\": \"number\",\n        \"std\": 0,\n        \"min\": 259172515,\n        \"max\": 259172515,\n        \"num_unique_values\": 1,\n        \"samples\": [\n          259172515\n        ],\n        \"semantic_type\": \"\",\n        \"description\": \"\"\n      }\n    },\n    {\n      \"column\": \"EVENT_NO_STOP\",\n      \"properties\": {\n        \"dtype\": \"number\",\n        \"std\": 4,\n        \"min\": 259172517,\n        \"max\": 259172531,\n        \"num_unique_values\": 15,\n        \"samples\": [\n          259172526\n        ],\n        \"semantic_type\": \"\",\n        \"description\": \"\"\n      }\n    },\n    {\n      \"column\": \"OPD_DATE\",\n      \"properties\": {\n        \"dtype\": \"category\",\n        \"num_unique_values\": 1,\n        \"samples\": [\n          \"15FEB2023:00:00:00\"\n        ],\n        \"semantic_type\": \"\",\n        \"description\": \"\"\n      }\n    },\n    {\n      \"column\": \"VEHICLE_ID\",\n      \"properties\": {\n        \"dtype\": \"number\",\n        \"std\": 0,\n        \"min\": 4223,\n        \"max\": 4223,\n        \"num_unique_values\": 1,\n        \"samples\": [\n          4223\n        ],\n        \"semantic_type\": \"\",\n        \"description\": \"\"\n      }\n    },\n    {\n      \"column\": \"METERS\",\n      \"properties\": {\n        \"dtype\": \"number\",\n        \"std\": 1810,\n        \"min\": 40,\n        \"max\": 5918,\n        \"num_unique_values\": 155,\n        \"samples\": [\n          4227\n        ],\n        \"semantic_type\": \"\",\n        \"description\": \"\"\n      }\n    },\n    {\n      \"column\": \"ACT_TIME\",\n      \"properties\": {\n        \"dtype\": \"number\",\n        \"std\": 276,\n        \"min\": 20469,\n        \"max\": 21439,\n        \"num_unique_values\": 161,\n        \"samples\": [\n          20984\n        ],\n        \"semantic_type\": \"\",\n        \"description\": \"\"\n      }\n    },\n    {\n      \"column\": \"GPS_LONGITUDE\",\n      \"properties\": {\n        \"dtype\": \"number\",\n        \"std\": 0.010092575557558034,\n        \"min\": -122.677585,\n        \"max\": -122.647997,\n        \"num_unique_values\": 138,\n        \"samples\": [\n          -122.675485\n        ],\n        \"semantic_type\": \"\",\n        \"description\": \"\"\n      }\n    },\n    {\n      \"column\": \"GPS_LATITUDE\",\n      \"properties\": {\n        \"dtype\": \"number\",\n        \"std\": 0.010565557261621318,\n        \"min\": 45.49307,\n        \"max\": 45.528065,\n        \"num_unique_values\": 151,\n        \"samples\": [\n          45.51731\n        ],\n        \"semantic_type\": \"\",\n        \"description\": \"\"\n      }\n    },\n    {\n      \"column\": \"GPS_SATELLITES\",\n      \"properties\": {\n        \"dtype\": \"number\",\n        \"std\": 0,\n        \"min\": 6,\n        \"max\": 12,\n        \"num_unique_values\": 6,\n        \"samples\": [\n          12\n        ],\n        \"semantic_type\": \"\",\n        \"description\": \"\"\n      }\n    },\n    {\n      \"column\": \"GPS_HDOP\",\n      \"properties\": {\n        \"dtype\": \"number\",\n        \"std\": 0.2156979858923407,\n        \"min\": 0.7,\n        \"max\": 2.0,\n        \"num_unique_values\": 13,\n        \"samples\": [\n          1.7\n        ],\n        \"semantic_type\": \"\",\n        \"description\": \"\"\n      }\n    }\n  ]\n}"
            }
          },
          "metadata": {},
          "execution_count": 5
        }
      ]
    },
    {
      "cell_type": "code",
      "source": [
        "# Display the first few rows of the DataFrame\n",
        "print(\"First few rows of the DataFrame:\")\n",
        "print(data.head())"
      ],
      "metadata": {
        "colab": {
          "base_uri": "https://localhost:8080/"
        },
        "id": "pX6D_AJNLGjF",
        "outputId": "feec2aa0-c763-41fa-a0da-0624e7e4a747"
      },
      "execution_count": 6,
      "outputs": [
        {
          "output_type": "stream",
          "name": "stdout",
          "text": [
            "First few rows of the DataFrame:\n",
            "   EVENT_NO_TRIP  EVENT_NO_STOP            OPD_DATE  VEHICLE_ID  METERS  \\\n",
            "0      259172515      259172517  15FEB2023:00:00:00        4223      40   \n",
            "1      259172515      259172517  15FEB2023:00:00:00        4223      48   \n",
            "2      259172515      259172517  15FEB2023:00:00:00        4223      57   \n",
            "3      259172515      259172517  15FEB2023:00:00:00        4223      73   \n",
            "4      259172515      259172517  15FEB2023:00:00:00        4223     112   \n",
            "\n",
            "   ACT_TIME  GPS_LONGITUDE  GPS_LATITUDE  GPS_SATELLITES  GPS_HDOP  \n",
            "0     20469    -122.648137     45.493082              12       0.7  \n",
            "1     20474    -122.648240     45.493070              12       0.8  \n",
            "2     20479    -122.648352     45.493123              12       0.8  \n",
            "3     20484    -122.648385     45.493262              12       0.7  \n",
            "4     20489    -122.648347     45.493582              12       0.8  \n"
          ]
        }
      ]
    },
    {
      "cell_type": "code",
      "source": [
        "# Display information about the DataFrame including the data types of each column\n",
        "print(\"\\nDataFrame information:\")\n",
        "data.info()"
      ],
      "metadata": {
        "colab": {
          "base_uri": "https://localhost:8080/"
        },
        "id": "91jdoxIEMeoy",
        "outputId": "a6faa6e9-9881-4f97-fbe4-9b3d967a5108"
      },
      "execution_count": 7,
      "outputs": [
        {
          "output_type": "stream",
          "name": "stdout",
          "text": [
            "\n",
            "DataFrame information:\n",
            "<class 'pandas.core.frame.DataFrame'>\n",
            "RangeIndex: 161 entries, 0 to 160\n",
            "Data columns (total 10 columns):\n",
            " #   Column          Non-Null Count  Dtype  \n",
            "---  ------          --------------  -----  \n",
            " 0   EVENT_NO_TRIP   161 non-null    int64  \n",
            " 1   EVENT_NO_STOP   161 non-null    int64  \n",
            " 2   OPD_DATE        161 non-null    object \n",
            " 3   VEHICLE_ID      161 non-null    int64  \n",
            " 4   METERS          161 non-null    int64  \n",
            " 5   ACT_TIME        161 non-null    int64  \n",
            " 6   GPS_LONGITUDE   161 non-null    float64\n",
            " 7   GPS_LATITUDE    161 non-null    float64\n",
            " 8   GPS_SATELLITES  161 non-null    int64  \n",
            " 9   GPS_HDOP        161 non-null    float64\n",
            "dtypes: float64(3), int64(6), object(1)\n",
            "memory usage: 12.7+ KB\n"
          ]
        }
      ]
    },
    {
      "cell_type": "code",
      "source": [
        "# Display summary statistics for the DataFrame\n",
        "print(\"\\nSummary statistics:\")\n",
        "print(data.describe())"
      ],
      "metadata": {
        "colab": {
          "base_uri": "https://localhost:8080/"
        },
        "id": "K1rf-C2-Mifx",
        "outputId": "a770505b-0854-4707-dd5e-1a04bacef30a"
      },
      "execution_count": 8,
      "outputs": [
        {
          "output_type": "stream",
          "name": "stdout",
          "text": [
            "\n",
            "Summary statistics:\n",
            "       EVENT_NO_TRIP  EVENT_NO_STOP  VEHICLE_ID       METERS      ACT_TIME  \\\n",
            "count          161.0   1.610000e+02       161.0   161.000000    161.000000   \n",
            "mean     259172515.0   2.591725e+08      4223.0  3589.186335  20901.670807   \n",
            "std              0.0   4.331696e+00         0.0  1810.681478    276.646724   \n",
            "min      259172515.0   2.591725e+08      4223.0    40.000000  20469.000000   \n",
            "25%      259172515.0   2.591725e+08      4223.0  1933.000000  20674.000000   \n",
            "50%      259172515.0   2.591725e+08      4223.0  4165.000000  20874.000000   \n",
            "75%      259172515.0   2.591725e+08      4223.0  5208.000000  21094.000000   \n",
            "max      259172515.0   2.591725e+08      4223.0  5918.000000  21439.000000   \n",
            "\n",
            "       GPS_LONGITUDE  GPS_LATITUDE  GPS_SATELLITES    GPS_HDOP  \n",
            "count     161.000000    161.000000      161.000000  161.000000  \n",
            "mean     -122.666642     45.514643       10.770186    0.909938  \n",
            "std         0.010093      0.010566        0.867817    0.215698  \n",
            "min      -122.677585     45.493070        6.000000    0.700000  \n",
            "25%      -122.675990     45.503155       10.000000    0.800000  \n",
            "50%      -122.669730     45.517902       11.000000    0.800000  \n",
            "75%      -122.660792     45.523190       11.000000    0.900000  \n",
            "max      -122.647997     45.528065       12.000000    2.000000  \n"
          ]
        }
      ]
    },
    {
      "cell_type": "code",
      "source": [
        "# Use DataFrame.drop() to remove the EVENT_NO_STOP, GPS_SATELLITES, and GPS_HDOP columns\n",
        "columns_to_drop = ['EVENT_NO_STOP', 'GPS_SATELLITES', 'GPS_HDOP']\n",
        "data_filtered = data.drop(columns=columns_to_drop)"
      ],
      "metadata": {
        "id": "o0hfPK8XNMij"
      },
      "execution_count": 12,
      "outputs": []
    },
    {
      "cell_type": "code",
      "source": [
        "# Display the first few rows of the filtered DataFrame\n",
        "print(\"\\nFirst few rows of the DataFrame after dropping EVENT_NO_STOP, GPS_SATELLITES, and GPS_HDOP columns:\")\n",
        "print(data_filtered.head())"
      ],
      "metadata": {
        "colab": {
          "base_uri": "https://localhost:8080/"
        },
        "id": "heahdjYgNqbg",
        "outputId": "24ce5e2a-a8b1-47b9-a60b-865d10edd971"
      },
      "execution_count": 13,
      "outputs": [
        {
          "output_type": "stream",
          "name": "stdout",
          "text": [
            "\n",
            "First few rows of the DataFrame after dropping EVENT_NO_STOP, GPS_SATELLITES, and GPS_HDOP columns:\n",
            "   EVENT_NO_TRIP            OPD_DATE  VEHICLE_ID  METERS  ACT_TIME  \\\n",
            "0      259172515  15FEB2023:00:00:00        4223      40     20469   \n",
            "1      259172515  15FEB2023:00:00:00        4223      48     20474   \n",
            "2      259172515  15FEB2023:00:00:00        4223      57     20479   \n",
            "3      259172515  15FEB2023:00:00:00        4223      73     20484   \n",
            "4      259172515  15FEB2023:00:00:00        4223     112     20489   \n",
            "\n",
            "   GPS_LONGITUDE  GPS_LATITUDE  \n",
            "0    -122.648137     45.493082  \n",
            "1    -122.648240     45.493070  \n",
            "2    -122.648352     45.493123  \n",
            "3    -122.648385     45.493262  \n",
            "4    -122.648347     45.493582  \n"
          ]
        }
      ]
    },
    {
      "cell_type": "code",
      "source": [
        "# Display information about the filtered DataFrame\n",
        "print(\"\\nFiltered DataFrame information:\")\n",
        "data_filtered.info()"
      ],
      "metadata": {
        "colab": {
          "base_uri": "https://localhost:8080/"
        },
        "id": "h9g3A11FNroB",
        "outputId": "1e45cf3f-ac3d-4de8-d404-566500bfcf54"
      },
      "execution_count": 14,
      "outputs": [
        {
          "output_type": "stream",
          "name": "stdout",
          "text": [
            "\n",
            "Filtered DataFrame information:\n",
            "<class 'pandas.core.frame.DataFrame'>\n",
            "RangeIndex: 161 entries, 0 to 160\n",
            "Data columns (total 7 columns):\n",
            " #   Column         Non-Null Count  Dtype  \n",
            "---  ------         --------------  -----  \n",
            " 0   EVENT_NO_TRIP  161 non-null    int64  \n",
            " 1   OPD_DATE       161 non-null    object \n",
            " 2   VEHICLE_ID     161 non-null    int64  \n",
            " 3   METERS         161 non-null    int64  \n",
            " 4   ACT_TIME       161 non-null    int64  \n",
            " 5   GPS_LONGITUDE  161 non-null    float64\n",
            " 6   GPS_LATITUDE   161 non-null    float64\n",
            "dtypes: float64(2), int64(4), object(1)\n",
            "memory usage: 8.9+ KB\n"
          ]
        }
      ]
    },
    {
      "cell_type": "code",
      "source": [
        "data_path = \"/content/drive/MyDrive/bc_trip259172515_230215.csv\""
      ],
      "metadata": {
        "id": "uKW1wh0gOwSC"
      },
      "execution_count": 22,
      "outputs": []
    },
    {
      "cell_type": "code",
      "source": [
        "# Specify the columns to include in the DataFrame\n",
        "columns_to_include = ['EVENT_NO_TRIP', 'OPD_DATE', 'VEHICLE_ID', 'METERS', 'ACT_TIME', 'GPS_LONGITUDE', 'GPS_LATITUDE']"
      ],
      "metadata": {
        "id": "UMwj2OWCPNI_"
      },
      "execution_count": 23,
      "outputs": []
    },
    {
      "cell_type": "code",
      "source": [
        "# Read the CSV file and include only the specified columns\n",
        "df = pd.read_csv(data_path, usecols=columns_to_include)"
      ],
      "metadata": {
        "id": "pDPIi4ikPWKb"
      },
      "execution_count": 24,
      "outputs": []
    },
    {
      "cell_type": "code",
      "source": [
        "# Display the first few rows of the filtered DataFrame\n",
        "print(\"First few rows of the filtered DataFrame:\")\n",
        "print(df.head())"
      ],
      "metadata": {
        "colab": {
          "base_uri": "https://localhost:8080/"
        },
        "id": "fGHnUXd_PfU2",
        "outputId": "ec19c5ab-432c-4bfd-a7ef-34d524d59217"
      },
      "execution_count": 25,
      "outputs": [
        {
          "output_type": "stream",
          "name": "stdout",
          "text": [
            "First few rows of the filtered DataFrame:\n",
            "   EVENT_NO_TRIP            OPD_DATE  VEHICLE_ID  METERS  ACT_TIME  \\\n",
            "0      259172515  15FEB2023:00:00:00        4223      40     20469   \n",
            "1      259172515  15FEB2023:00:00:00        4223      48     20474   \n",
            "2      259172515  15FEB2023:00:00:00        4223      57     20479   \n",
            "3      259172515  15FEB2023:00:00:00        4223      73     20484   \n",
            "4      259172515  15FEB2023:00:00:00        4223     112     20489   \n",
            "\n",
            "   GPS_LONGITUDE  GPS_LATITUDE  \n",
            "0    -122.648137     45.493082  \n",
            "1    -122.648240     45.493070  \n",
            "2    -122.648352     45.493123  \n",
            "3    -122.648385     45.493262  \n",
            "4    -122.648347     45.493582  \n"
          ]
        }
      ]
    },
    {
      "cell_type": "code",
      "source": [
        "# Display information about the DataFrame, including data types and memory usage\n",
        "print(\"\\nDataFrame information:\")\n",
        "df.info()"
      ],
      "metadata": {
        "colab": {
          "base_uri": "https://localhost:8080/"
        },
        "id": "-iqRIQ70QBk9",
        "outputId": "f9b6e2e4-0621-45fa-b316-f14d2a5785ab"
      },
      "execution_count": 26,
      "outputs": [
        {
          "output_type": "stream",
          "name": "stdout",
          "text": [
            "\n",
            "DataFrame information:\n",
            "<class 'pandas.core.frame.DataFrame'>\n",
            "RangeIndex: 161 entries, 0 to 160\n",
            "Data columns (total 7 columns):\n",
            " #   Column         Non-Null Count  Dtype  \n",
            "---  ------         --------------  -----  \n",
            " 0   EVENT_NO_TRIP  161 non-null    int64  \n",
            " 1   OPD_DATE       161 non-null    object \n",
            " 2   VEHICLE_ID     161 non-null    int64  \n",
            " 3   METERS         161 non-null    int64  \n",
            " 4   ACT_TIME       161 non-null    int64  \n",
            " 5   GPS_LONGITUDE  161 non-null    float64\n",
            " 6   GPS_LATITUDE   161 non-null    float64\n",
            "dtypes: float64(2), int64(4), object(1)\n",
            "memory usage: 8.9+ KB\n"
          ]
        }
      ]
    },
    {
      "cell_type": "code",
      "source": [
        "from datetime import datetime, timedelta\n",
        "# Function to decode OPD_DATE and ACT_TIME and create a pandas.Timestamp\n",
        "def create_timestamp(row):\n",
        "    # Convert OPD_DATE to a datetime object\n",
        "    date = datetime.strptime(row['OPD_DATE'], '%d%b%Y:%H:%M:%S')\n",
        "\n",
        "    # Convert ACT_TIME to a timedelta object (from seconds since midnight)\n",
        "    time_offset = timedelta(seconds=row['ACT_TIME'])\n",
        "\n",
        "    # Combine date and time_offset to create a timestamp\n",
        "    timestamp = date + time_offset\n",
        "\n",
        "    return timestamp"
      ],
      "metadata": {
        "id": "vZtjW_YcQDjI"
      },
      "execution_count": 27,
      "outputs": []
    },
    {
      "cell_type": "code",
      "source": [
        "# Apply the function to each row and create the TIMESTAMP column\n",
        "df['TIMESTAMP'] = df.apply(create_timestamp, axis=1)"
      ],
      "metadata": {
        "id": "oIgtjtYLSMGj"
      },
      "execution_count": 28,
      "outputs": []
    },
    {
      "cell_type": "code",
      "source": [
        "# Display the first few rows of the DataFrame with the new TIMESTAMP column\n",
        "print(\"First few rows of the DataFrame with the new TIMESTAMP column:\")\n",
        "print(df.head())"
      ],
      "metadata": {
        "colab": {
          "base_uri": "https://localhost:8080/"
        },
        "id": "YIUYNbesSPjj",
        "outputId": "81f5b3d7-330e-4ef7-e3da-79b9584ac38a"
      },
      "execution_count": 29,
      "outputs": [
        {
          "output_type": "stream",
          "name": "stdout",
          "text": [
            "First few rows of the DataFrame with the new TIMESTAMP column:\n",
            "   EVENT_NO_TRIP            OPD_DATE  VEHICLE_ID  METERS  ACT_TIME  \\\n",
            "0      259172515  15FEB2023:00:00:00        4223      40     20469   \n",
            "1      259172515  15FEB2023:00:00:00        4223      48     20474   \n",
            "2      259172515  15FEB2023:00:00:00        4223      57     20479   \n",
            "3      259172515  15FEB2023:00:00:00        4223      73     20484   \n",
            "4      259172515  15FEB2023:00:00:00        4223     112     20489   \n",
            "\n",
            "   GPS_LONGITUDE  GPS_LATITUDE           TIMESTAMP  \n",
            "0    -122.648137     45.493082 2023-02-15 05:41:09  \n",
            "1    -122.648240     45.493070 2023-02-15 05:41:14  \n",
            "2    -122.648352     45.493123 2023-02-15 05:41:19  \n",
            "3    -122.648385     45.493262 2023-02-15 05:41:24  \n",
            "4    -122.648347     45.493582 2023-02-15 05:41:29  \n"
          ]
        }
      ]
    },
    {
      "cell_type": "code",
      "source": [
        "# Display DataFrame information to confirm the new column and data types\n",
        "print(\"\\nDataFrame information:\")\n",
        "df.info()"
      ],
      "metadata": {
        "colab": {
          "base_uri": "https://localhost:8080/"
        },
        "id": "eUZVXBkISRVY",
        "outputId": "d3d072aa-f5f4-48b7-a431-02dc18246914"
      },
      "execution_count": 30,
      "outputs": [
        {
          "output_type": "stream",
          "name": "stdout",
          "text": [
            "\n",
            "DataFrame information:\n",
            "<class 'pandas.core.frame.DataFrame'>\n",
            "RangeIndex: 161 entries, 0 to 160\n",
            "Data columns (total 8 columns):\n",
            " #   Column         Non-Null Count  Dtype         \n",
            "---  ------         --------------  -----         \n",
            " 0   EVENT_NO_TRIP  161 non-null    int64         \n",
            " 1   OPD_DATE       161 non-null    object        \n",
            " 2   VEHICLE_ID     161 non-null    int64         \n",
            " 3   METERS         161 non-null    int64         \n",
            " 4   ACT_TIME       161 non-null    int64         \n",
            " 5   GPS_LONGITUDE  161 non-null    float64       \n",
            " 6   GPS_LATITUDE   161 non-null    float64       \n",
            " 7   TIMESTAMP      161 non-null    datetime64[ns]\n",
            "dtypes: datetime64[ns](1), float64(2), int64(4), object(1)\n",
            "memory usage: 10.2+ KB\n"
          ]
        }
      ]
    },
    {
      "cell_type": "code",
      "source": [
        "# Remove the OPD_DATE and ACT_TIME columns\n",
        "df = df.drop(columns=['OPD_DATE', 'ACT_TIME'])"
      ],
      "metadata": {
        "id": "cFojeOw1Scyg"
      },
      "execution_count": 31,
      "outputs": []
    },
    {
      "cell_type": "code",
      "source": [
        "# Display the first few rows of the DataFrame with the new TIMESTAMP column\n",
        "print(\"First few rows of the DataFrame with the new TIMESTAMP column and without OPD_DATE and ACT_TIME columns:\")\n",
        "print(df.head())"
      ],
      "metadata": {
        "colab": {
          "base_uri": "https://localhost:8080/"
        },
        "id": "CUC6bs2fTTrF",
        "outputId": "4dc442c9-611f-4488-f831-d865085589d5"
      },
      "execution_count": 32,
      "outputs": [
        {
          "output_type": "stream",
          "name": "stdout",
          "text": [
            "First few rows of the DataFrame with the new TIMESTAMP column and without OPD_DATE and ACT_TIME columns:\n",
            "   EVENT_NO_TRIP  VEHICLE_ID  METERS  GPS_LONGITUDE  GPS_LATITUDE  \\\n",
            "0      259172515        4223      40    -122.648137     45.493082   \n",
            "1      259172515        4223      48    -122.648240     45.493070   \n",
            "2      259172515        4223      57    -122.648352     45.493123   \n",
            "3      259172515        4223      73    -122.648385     45.493262   \n",
            "4      259172515        4223     112    -122.648347     45.493582   \n",
            "\n",
            "            TIMESTAMP  \n",
            "0 2023-02-15 05:41:09  \n",
            "1 2023-02-15 05:41:14  \n",
            "2 2023-02-15 05:41:19  \n",
            "3 2023-02-15 05:41:24  \n",
            "4 2023-02-15 05:41:29  \n"
          ]
        }
      ]
    },
    {
      "cell_type": "code",
      "source": [
        "# Display DataFrame information to confirm the new column and data types\n",
        "print(\"\\nDataFrame information:\")\n",
        "df.info()"
      ],
      "metadata": {
        "colab": {
          "base_uri": "https://localhost:8080/"
        },
        "id": "bS77c-2wTV-4",
        "outputId": "06a3ccb1-e8ae-4770-d243-e6fda2dd59cd"
      },
      "execution_count": 33,
      "outputs": [
        {
          "output_type": "stream",
          "name": "stdout",
          "text": [
            "\n",
            "DataFrame information:\n",
            "<class 'pandas.core.frame.DataFrame'>\n",
            "RangeIndex: 161 entries, 0 to 160\n",
            "Data columns (total 6 columns):\n",
            " #   Column         Non-Null Count  Dtype         \n",
            "---  ------         --------------  -----         \n",
            " 0   EVENT_NO_TRIP  161 non-null    int64         \n",
            " 1   VEHICLE_ID     161 non-null    int64         \n",
            " 2   METERS         161 non-null    int64         \n",
            " 3   GPS_LONGITUDE  161 non-null    float64       \n",
            " 4   GPS_LATITUDE   161 non-null    float64       \n",
            " 5   TIMESTAMP      161 non-null    datetime64[ns]\n",
            "dtypes: datetime64[ns](1), float64(2), int64(3)\n",
            "memory usage: 7.7 KB\n"
          ]
        }
      ]
    },
    {
      "cell_type": "code",
      "source": [
        "# Calculate the difference between rows for METERS and TIMESTAMP\n",
        "df['dMETERS'] = df['METERS'].diff()\n",
        "df['dTIMESTAMP'] = df['TIMESTAMP'].diff().dt.total_seconds()  # Convert timedelta to seconds"
      ],
      "metadata": {
        "id": "MfFNp_NwTY2f"
      },
      "execution_count": 35,
      "outputs": []
    },
    {
      "cell_type": "code",
      "source": [
        "# Calculate SPEED as dMETERS / dTIMESTAMP\n",
        "df['SPEED'] = df['dMETERS'] / df['dTIMESTAMP']"
      ],
      "metadata": {
        "id": "evhRcZEBWthR"
      },
      "execution_count": 36,
      "outputs": []
    },
    {
      "cell_type": "code",
      "source": [
        "# Drop the unneeded dMETERS and dTIMESTAMP columns\n",
        "df.drop(columns=['dMETERS', 'dTIMESTAMP'], inplace=True)"
      ],
      "metadata": {
        "id": "8ZlzorhFff4n"
      },
      "execution_count": 37,
      "outputs": []
    },
    {
      "cell_type": "code",
      "source": [
        "# Display the first few rows of the DataFrame with the SPEED column\n",
        "print(\"First few rows of the DataFrame with the SPEED column:\")\n",
        "print(df.head())"
      ],
      "metadata": {
        "colab": {
          "base_uri": "https://localhost:8080/"
        },
        "id": "p3nOESGLfhys",
        "outputId": "d614f372-18ca-42ce-9fa5-c076da84619b"
      },
      "execution_count": 38,
      "outputs": [
        {
          "output_type": "stream",
          "name": "stdout",
          "text": [
            "First few rows of the DataFrame with the SPEED column:\n",
            "   EVENT_NO_TRIP  VEHICLE_ID  METERS  GPS_LONGITUDE  GPS_LATITUDE  \\\n",
            "0      259172515        4223      40    -122.648137     45.493082   \n",
            "1      259172515        4223      48    -122.648240     45.493070   \n",
            "2      259172515        4223      57    -122.648352     45.493123   \n",
            "3      259172515        4223      73    -122.648385     45.493262   \n",
            "4      259172515        4223     112    -122.648347     45.493582   \n",
            "\n",
            "            TIMESTAMP  SPEED  \n",
            "0 2023-02-15 05:41:09    NaN  \n",
            "1 2023-02-15 05:41:14    1.6  \n",
            "2 2023-02-15 05:41:19    1.8  \n",
            "3 2023-02-15 05:41:24    3.2  \n",
            "4 2023-02-15 05:41:29    7.8  \n"
          ]
        }
      ]
    },
    {
      "cell_type": "code",
      "source": [
        "df['SPEED'] = df['SPEED'].fillna(method='bfill')"
      ],
      "metadata": {
        "id": "CKdaB0X7fnds"
      },
      "execution_count": 39,
      "outputs": []
    },
    {
      "cell_type": "code",
      "source": [
        "print(df.head())"
      ],
      "metadata": {
        "colab": {
          "base_uri": "https://localhost:8080/"
        },
        "id": "UmyjFPJXgT2H",
        "outputId": "14e44865-c547-4022-9a9f-c392e730b6bb"
      },
      "execution_count": 40,
      "outputs": [
        {
          "output_type": "stream",
          "name": "stdout",
          "text": [
            "   EVENT_NO_TRIP  VEHICLE_ID  METERS  GPS_LONGITUDE  GPS_LATITUDE  \\\n",
            "0      259172515        4223      40    -122.648137     45.493082   \n",
            "1      259172515        4223      48    -122.648240     45.493070   \n",
            "2      259172515        4223      57    -122.648352     45.493123   \n",
            "3      259172515        4223      73    -122.648385     45.493262   \n",
            "4      259172515        4223     112    -122.648347     45.493582   \n",
            "\n",
            "            TIMESTAMP  SPEED  \n",
            "0 2023-02-15 05:41:09    1.6  \n",
            "1 2023-02-15 05:41:14    1.6  \n",
            "2 2023-02-15 05:41:19    1.8  \n",
            "3 2023-02-15 05:41:24    3.2  \n",
            "4 2023-02-15 05:41:29    7.8  \n"
          ]
        }
      ]
    },
    {
      "cell_type": "code",
      "source": [
        "# Calculate and display the summary statistics for the SPEED column\n",
        "summary_statistics = df['SPEED'].describe()\n",
        "# Displaying the statistics\n",
        "print(\"Summary statistics for SPEED:\")\n",
        "print(summary_statistics)\n",
        "# Extracting the minimum, maximum, and average speed\n",
        "min_speed = summary_statistics['min']\n",
        "max_speed = summary_statistics['max']\n",
        "average_speed = summary_statistics['mean']\n",
        "# Display the minimum, maximum, and average speed\n",
        "print(\"\\nMinimum speed: {:.2f} m/s\".format(min_speed))\n",
        "print(\"Maximum speed: {:.2f} m/s\".format(max_speed))\n",
        "print(\"Average speed: {:.2f} m/s\".format(average_speed))"
      ],
      "metadata": {
        "colab": {
          "base_uri": "https://localhost:8080/"
        },
        "id": "V3CkuM_egWNu",
        "outputId": "6f5440cc-44c3-4794-8787-60be5cc57f28"
      },
      "execution_count": 41,
      "outputs": [
        {
          "output_type": "stream",
          "name": "stdout",
          "text": [
            "Summary statistics for SPEED:\n",
            "count    161.000000\n",
            "mean       7.192254\n",
            "std        4.429027\n",
            "min        0.000000\n",
            "25%        3.800000\n",
            "50%        6.400000\n",
            "75%       10.800000\n",
            "max       17.400000\n",
            "Name: SPEED, dtype: float64\n",
            "\n",
            "Minimum speed: 0.00 m/s\n",
            "Maximum speed: 17.40 m/s\n",
            "Average speed: 7.19 m/s\n"
          ]
        }
      ]
    },
    {
      "cell_type": "code",
      "source": [
        "data = pd.read_csv(\"/content/drive/MyDrive/bc_veh4223_230215.csv\")\n",
        "data"
      ],
      "metadata": {
        "colab": {
          "base_uri": "https://localhost:8080/",
          "height": 423
        },
        "id": "HzQUkDrkgvJ4",
        "outputId": "2ed86d10-a336-494a-ddfa-f331175de186"
      },
      "execution_count": 42,
      "outputs": [
        {
          "output_type": "execute_result",
          "data": {
            "text/plain": [
              "      EVENT_NO_TRIP  EVENT_NO_STOP            OPD_DATE  VEHICLE_ID  METERS  \\\n",
              "0         259173279      259173350  15FEB2023:00:00:00        4223  194493   \n",
              "1         259173279      259173350  15FEB2023:00:00:00        4223  194525   \n",
              "2         259173279      259173350  15FEB2023:00:00:00        4223  194562   \n",
              "3         259173279      259173350  15FEB2023:00:00:00        4223  194598   \n",
              "4         259173279      259173350  15FEB2023:00:00:00        4223  194628   \n",
              "...             ...            ...                 ...         ...     ...   \n",
              "7401      259173498      259173583  15FEB2023:00:00:00        4223  251109   \n",
              "7402      259173498      259173583  15FEB2023:00:00:00        4223  251162   \n",
              "7403      259173498      259173583  15FEB2023:00:00:00        4223  251199   \n",
              "7404      259173498      259173583  15FEB2023:00:00:00        4223  251238   \n",
              "7405      259173498      259173583  15FEB2023:00:00:00        4223  251289   \n",
              "\n",
              "      ACT_TIME  GPS_LONGITUDE  GPS_LATITUDE  GPS_SATELLITES  GPS_HDOP  \n",
              "0        71279    -122.679572     45.517122               8       1.6  \n",
              "1        71284    -122.679408     45.517392               8       1.9  \n",
              "2        71290    -122.679227     45.517700               8       2.2  \n",
              "3        71295    -122.679048     45.517998               9       0.9  \n",
              "4        71300    -122.678888     45.518255               9       1.3  \n",
              "...        ...            ...           ...             ...       ...  \n",
              "7401     84315    -122.641148     45.539688              12       0.8  \n",
              "7402     84320    -122.641138     45.540175              12       0.7  \n",
              "7403     84325    -122.641107     45.540512              12       0.7  \n",
              "7404     84330    -122.641142     45.540860              12       0.7  \n",
              "7405     84335    -122.641140     45.541325              12       0.7  \n",
              "\n",
              "[7406 rows x 10 columns]"
            ],
            "text/html": [
              "\n",
              "  <div id=\"df-1b6cdf76-6a38-40bc-a4cb-a363a415bb95\" class=\"colab-df-container\">\n",
              "    <div>\n",
              "<style scoped>\n",
              "    .dataframe tbody tr th:only-of-type {\n",
              "        vertical-align: middle;\n",
              "    }\n",
              "\n",
              "    .dataframe tbody tr th {\n",
              "        vertical-align: top;\n",
              "    }\n",
              "\n",
              "    .dataframe thead th {\n",
              "        text-align: right;\n",
              "    }\n",
              "</style>\n",
              "<table border=\"1\" class=\"dataframe\">\n",
              "  <thead>\n",
              "    <tr style=\"text-align: right;\">\n",
              "      <th></th>\n",
              "      <th>EVENT_NO_TRIP</th>\n",
              "      <th>EVENT_NO_STOP</th>\n",
              "      <th>OPD_DATE</th>\n",
              "      <th>VEHICLE_ID</th>\n",
              "      <th>METERS</th>\n",
              "      <th>ACT_TIME</th>\n",
              "      <th>GPS_LONGITUDE</th>\n",
              "      <th>GPS_LATITUDE</th>\n",
              "      <th>GPS_SATELLITES</th>\n",
              "      <th>GPS_HDOP</th>\n",
              "    </tr>\n",
              "  </thead>\n",
              "  <tbody>\n",
              "    <tr>\n",
              "      <th>0</th>\n",
              "      <td>259173279</td>\n",
              "      <td>259173350</td>\n",
              "      <td>15FEB2023:00:00:00</td>\n",
              "      <td>4223</td>\n",
              "      <td>194493</td>\n",
              "      <td>71279</td>\n",
              "      <td>-122.679572</td>\n",
              "      <td>45.517122</td>\n",
              "      <td>8</td>\n",
              "      <td>1.6</td>\n",
              "    </tr>\n",
              "    <tr>\n",
              "      <th>1</th>\n",
              "      <td>259173279</td>\n",
              "      <td>259173350</td>\n",
              "      <td>15FEB2023:00:00:00</td>\n",
              "      <td>4223</td>\n",
              "      <td>194525</td>\n",
              "      <td>71284</td>\n",
              "      <td>-122.679408</td>\n",
              "      <td>45.517392</td>\n",
              "      <td>8</td>\n",
              "      <td>1.9</td>\n",
              "    </tr>\n",
              "    <tr>\n",
              "      <th>2</th>\n",
              "      <td>259173279</td>\n",
              "      <td>259173350</td>\n",
              "      <td>15FEB2023:00:00:00</td>\n",
              "      <td>4223</td>\n",
              "      <td>194562</td>\n",
              "      <td>71290</td>\n",
              "      <td>-122.679227</td>\n",
              "      <td>45.517700</td>\n",
              "      <td>8</td>\n",
              "      <td>2.2</td>\n",
              "    </tr>\n",
              "    <tr>\n",
              "      <th>3</th>\n",
              "      <td>259173279</td>\n",
              "      <td>259173350</td>\n",
              "      <td>15FEB2023:00:00:00</td>\n",
              "      <td>4223</td>\n",
              "      <td>194598</td>\n",
              "      <td>71295</td>\n",
              "      <td>-122.679048</td>\n",
              "      <td>45.517998</td>\n",
              "      <td>9</td>\n",
              "      <td>0.9</td>\n",
              "    </tr>\n",
              "    <tr>\n",
              "      <th>4</th>\n",
              "      <td>259173279</td>\n",
              "      <td>259173350</td>\n",
              "      <td>15FEB2023:00:00:00</td>\n",
              "      <td>4223</td>\n",
              "      <td>194628</td>\n",
              "      <td>71300</td>\n",
              "      <td>-122.678888</td>\n",
              "      <td>45.518255</td>\n",
              "      <td>9</td>\n",
              "      <td>1.3</td>\n",
              "    </tr>\n",
              "    <tr>\n",
              "      <th>...</th>\n",
              "      <td>...</td>\n",
              "      <td>...</td>\n",
              "      <td>...</td>\n",
              "      <td>...</td>\n",
              "      <td>...</td>\n",
              "      <td>...</td>\n",
              "      <td>...</td>\n",
              "      <td>...</td>\n",
              "      <td>...</td>\n",
              "      <td>...</td>\n",
              "    </tr>\n",
              "    <tr>\n",
              "      <th>7401</th>\n",
              "      <td>259173498</td>\n",
              "      <td>259173583</td>\n",
              "      <td>15FEB2023:00:00:00</td>\n",
              "      <td>4223</td>\n",
              "      <td>251109</td>\n",
              "      <td>84315</td>\n",
              "      <td>-122.641148</td>\n",
              "      <td>45.539688</td>\n",
              "      <td>12</td>\n",
              "      <td>0.8</td>\n",
              "    </tr>\n",
              "    <tr>\n",
              "      <th>7402</th>\n",
              "      <td>259173498</td>\n",
              "      <td>259173583</td>\n",
              "      <td>15FEB2023:00:00:00</td>\n",
              "      <td>4223</td>\n",
              "      <td>251162</td>\n",
              "      <td>84320</td>\n",
              "      <td>-122.641138</td>\n",
              "      <td>45.540175</td>\n",
              "      <td>12</td>\n",
              "      <td>0.7</td>\n",
              "    </tr>\n",
              "    <tr>\n",
              "      <th>7403</th>\n",
              "      <td>259173498</td>\n",
              "      <td>259173583</td>\n",
              "      <td>15FEB2023:00:00:00</td>\n",
              "      <td>4223</td>\n",
              "      <td>251199</td>\n",
              "      <td>84325</td>\n",
              "      <td>-122.641107</td>\n",
              "      <td>45.540512</td>\n",
              "      <td>12</td>\n",
              "      <td>0.7</td>\n",
              "    </tr>\n",
              "    <tr>\n",
              "      <th>7404</th>\n",
              "      <td>259173498</td>\n",
              "      <td>259173583</td>\n",
              "      <td>15FEB2023:00:00:00</td>\n",
              "      <td>4223</td>\n",
              "      <td>251238</td>\n",
              "      <td>84330</td>\n",
              "      <td>-122.641142</td>\n",
              "      <td>45.540860</td>\n",
              "      <td>12</td>\n",
              "      <td>0.7</td>\n",
              "    </tr>\n",
              "    <tr>\n",
              "      <th>7405</th>\n",
              "      <td>259173498</td>\n",
              "      <td>259173583</td>\n",
              "      <td>15FEB2023:00:00:00</td>\n",
              "      <td>4223</td>\n",
              "      <td>251289</td>\n",
              "      <td>84335</td>\n",
              "      <td>-122.641140</td>\n",
              "      <td>45.541325</td>\n",
              "      <td>12</td>\n",
              "      <td>0.7</td>\n",
              "    </tr>\n",
              "  </tbody>\n",
              "</table>\n",
              "<p>7406 rows × 10 columns</p>\n",
              "</div>\n",
              "    <div class=\"colab-df-buttons\">\n",
              "\n",
              "  <div class=\"colab-df-container\">\n",
              "    <button class=\"colab-df-convert\" onclick=\"convertToInteractive('df-1b6cdf76-6a38-40bc-a4cb-a363a415bb95')\"\n",
              "            title=\"Convert this dataframe to an interactive table.\"\n",
              "            style=\"display:none;\">\n",
              "\n",
              "  <svg xmlns=\"http://www.w3.org/2000/svg\" height=\"24px\" viewBox=\"0 -960 960 960\">\n",
              "    <path d=\"M120-120v-720h720v720H120Zm60-500h600v-160H180v160Zm220 220h160v-160H400v160Zm0 220h160v-160H400v160ZM180-400h160v-160H180v160Zm440 0h160v-160H620v160ZM180-180h160v-160H180v160Zm440 0h160v-160H620v160Z\"/>\n",
              "  </svg>\n",
              "    </button>\n",
              "\n",
              "  <style>\n",
              "    .colab-df-container {\n",
              "      display:flex;\n",
              "      gap: 12px;\n",
              "    }\n",
              "\n",
              "    .colab-df-convert {\n",
              "      background-color: #E8F0FE;\n",
              "      border: none;\n",
              "      border-radius: 50%;\n",
              "      cursor: pointer;\n",
              "      display: none;\n",
              "      fill: #1967D2;\n",
              "      height: 32px;\n",
              "      padding: 0 0 0 0;\n",
              "      width: 32px;\n",
              "    }\n",
              "\n",
              "    .colab-df-convert:hover {\n",
              "      background-color: #E2EBFA;\n",
              "      box-shadow: 0px 1px 2px rgba(60, 64, 67, 0.3), 0px 1px 3px 1px rgba(60, 64, 67, 0.15);\n",
              "      fill: #174EA6;\n",
              "    }\n",
              "\n",
              "    .colab-df-buttons div {\n",
              "      margin-bottom: 4px;\n",
              "    }\n",
              "\n",
              "    [theme=dark] .colab-df-convert {\n",
              "      background-color: #3B4455;\n",
              "      fill: #D2E3FC;\n",
              "    }\n",
              "\n",
              "    [theme=dark] .colab-df-convert:hover {\n",
              "      background-color: #434B5C;\n",
              "      box-shadow: 0px 1px 3px 1px rgba(0, 0, 0, 0.15);\n",
              "      filter: drop-shadow(0px 1px 2px rgba(0, 0, 0, 0.3));\n",
              "      fill: #FFFFFF;\n",
              "    }\n",
              "  </style>\n",
              "\n",
              "    <script>\n",
              "      const buttonEl =\n",
              "        document.querySelector('#df-1b6cdf76-6a38-40bc-a4cb-a363a415bb95 button.colab-df-convert');\n",
              "      buttonEl.style.display =\n",
              "        google.colab.kernel.accessAllowed ? 'block' : 'none';\n",
              "\n",
              "      async function convertToInteractive(key) {\n",
              "        const element = document.querySelector('#df-1b6cdf76-6a38-40bc-a4cb-a363a415bb95');\n",
              "        const dataTable =\n",
              "          await google.colab.kernel.invokeFunction('convertToInteractive',\n",
              "                                                    [key], {});\n",
              "        if (!dataTable) return;\n",
              "\n",
              "        const docLinkHtml = 'Like what you see? Visit the ' +\n",
              "          '<a target=\"_blank\" href=https://colab.research.google.com/notebooks/data_table.ipynb>data table notebook</a>'\n",
              "          + ' to learn more about interactive tables.';\n",
              "        element.innerHTML = '';\n",
              "        dataTable['output_type'] = 'display_data';\n",
              "        await google.colab.output.renderOutput(dataTable, element);\n",
              "        const docLink = document.createElement('div');\n",
              "        docLink.innerHTML = docLinkHtml;\n",
              "        element.appendChild(docLink);\n",
              "      }\n",
              "    </script>\n",
              "  </div>\n",
              "\n",
              "\n",
              "<div id=\"df-bc3fc9f2-1227-4f18-a7ac-3635aef362c0\">\n",
              "  <button class=\"colab-df-quickchart\" onclick=\"quickchart('df-bc3fc9f2-1227-4f18-a7ac-3635aef362c0')\"\n",
              "            title=\"Suggest charts\"\n",
              "            style=\"display:none;\">\n",
              "\n",
              "<svg xmlns=\"http://www.w3.org/2000/svg\" height=\"24px\"viewBox=\"0 0 24 24\"\n",
              "     width=\"24px\">\n",
              "    <g>\n",
              "        <path d=\"M19 3H5c-1.1 0-2 .9-2 2v14c0 1.1.9 2 2 2h14c1.1 0 2-.9 2-2V5c0-1.1-.9-2-2-2zM9 17H7v-7h2v7zm4 0h-2V7h2v10zm4 0h-2v-4h2v4z\"/>\n",
              "    </g>\n",
              "</svg>\n",
              "  </button>\n",
              "\n",
              "<style>\n",
              "  .colab-df-quickchart {\n",
              "      --bg-color: #E8F0FE;\n",
              "      --fill-color: #1967D2;\n",
              "      --hover-bg-color: #E2EBFA;\n",
              "      --hover-fill-color: #174EA6;\n",
              "      --disabled-fill-color: #AAA;\n",
              "      --disabled-bg-color: #DDD;\n",
              "  }\n",
              "\n",
              "  [theme=dark] .colab-df-quickchart {\n",
              "      --bg-color: #3B4455;\n",
              "      --fill-color: #D2E3FC;\n",
              "      --hover-bg-color: #434B5C;\n",
              "      --hover-fill-color: #FFFFFF;\n",
              "      --disabled-bg-color: #3B4455;\n",
              "      --disabled-fill-color: #666;\n",
              "  }\n",
              "\n",
              "  .colab-df-quickchart {\n",
              "    background-color: var(--bg-color);\n",
              "    border: none;\n",
              "    border-radius: 50%;\n",
              "    cursor: pointer;\n",
              "    display: none;\n",
              "    fill: var(--fill-color);\n",
              "    height: 32px;\n",
              "    padding: 0;\n",
              "    width: 32px;\n",
              "  }\n",
              "\n",
              "  .colab-df-quickchart:hover {\n",
              "    background-color: var(--hover-bg-color);\n",
              "    box-shadow: 0 1px 2px rgba(60, 64, 67, 0.3), 0 1px 3px 1px rgba(60, 64, 67, 0.15);\n",
              "    fill: var(--button-hover-fill-color);\n",
              "  }\n",
              "\n",
              "  .colab-df-quickchart-complete:disabled,\n",
              "  .colab-df-quickchart-complete:disabled:hover {\n",
              "    background-color: var(--disabled-bg-color);\n",
              "    fill: var(--disabled-fill-color);\n",
              "    box-shadow: none;\n",
              "  }\n",
              "\n",
              "  .colab-df-spinner {\n",
              "    border: 2px solid var(--fill-color);\n",
              "    border-color: transparent;\n",
              "    border-bottom-color: var(--fill-color);\n",
              "    animation:\n",
              "      spin 1s steps(1) infinite;\n",
              "  }\n",
              "\n",
              "  @keyframes spin {\n",
              "    0% {\n",
              "      border-color: transparent;\n",
              "      border-bottom-color: var(--fill-color);\n",
              "      border-left-color: var(--fill-color);\n",
              "    }\n",
              "    20% {\n",
              "      border-color: transparent;\n",
              "      border-left-color: var(--fill-color);\n",
              "      border-top-color: var(--fill-color);\n",
              "    }\n",
              "    30% {\n",
              "      border-color: transparent;\n",
              "      border-left-color: var(--fill-color);\n",
              "      border-top-color: var(--fill-color);\n",
              "      border-right-color: var(--fill-color);\n",
              "    }\n",
              "    40% {\n",
              "      border-color: transparent;\n",
              "      border-right-color: var(--fill-color);\n",
              "      border-top-color: var(--fill-color);\n",
              "    }\n",
              "    60% {\n",
              "      border-color: transparent;\n",
              "      border-right-color: var(--fill-color);\n",
              "    }\n",
              "    80% {\n",
              "      border-color: transparent;\n",
              "      border-right-color: var(--fill-color);\n",
              "      border-bottom-color: var(--fill-color);\n",
              "    }\n",
              "    90% {\n",
              "      border-color: transparent;\n",
              "      border-bottom-color: var(--fill-color);\n",
              "    }\n",
              "  }\n",
              "</style>\n",
              "\n",
              "  <script>\n",
              "    async function quickchart(key) {\n",
              "      const quickchartButtonEl =\n",
              "        document.querySelector('#' + key + ' button');\n",
              "      quickchartButtonEl.disabled = true;  // To prevent multiple clicks.\n",
              "      quickchartButtonEl.classList.add('colab-df-spinner');\n",
              "      try {\n",
              "        const charts = await google.colab.kernel.invokeFunction(\n",
              "            'suggestCharts', [key], {});\n",
              "      } catch (error) {\n",
              "        console.error('Error during call to suggestCharts:', error);\n",
              "      }\n",
              "      quickchartButtonEl.classList.remove('colab-df-spinner');\n",
              "      quickchartButtonEl.classList.add('colab-df-quickchart-complete');\n",
              "    }\n",
              "    (() => {\n",
              "      let quickchartButtonEl =\n",
              "        document.querySelector('#df-bc3fc9f2-1227-4f18-a7ac-3635aef362c0 button');\n",
              "      quickchartButtonEl.style.display =\n",
              "        google.colab.kernel.accessAllowed ? 'block' : 'none';\n",
              "    })();\n",
              "  </script>\n",
              "</div>\n",
              "    </div>\n",
              "  </div>\n"
            ],
            "application/vnd.google.colaboratory.intrinsic+json": {
              "type": "dataframe",
              "variable_name": "data",
              "summary": "{\n  \"name\": \"data\",\n  \"rows\": 7406,\n  \"fields\": [\n    {\n      \"column\": \"EVENT_NO_TRIP\",\n      \"properties\": {\n        \"dtype\": \"number\",\n        \"std\": 364,\n        \"min\": 259169000,\n        \"max\": 259173705,\n        \"num_unique_values\": 15,\n        \"samples\": [\n          259169000,\n          259173605,\n          259173279\n        ],\n        \"semantic_type\": \"\",\n        \"description\": \"\"\n      }\n    },\n    {\n      \"column\": \"EVENT_NO_STOP\",\n      \"properties\": {\n        \"dtype\": \"number\",\n        \"std\": 362,\n        \"min\": 259169008,\n        \"max\": 259173719,\n        \"num_unique_values\": 1123,\n        \"samples\": [\n          259173681,\n          259173380,\n          259172968\n        ],\n        \"semantic_type\": \"\",\n        \"description\": \"\"\n      }\n    },\n    {\n      \"column\": \"OPD_DATE\",\n      \"properties\": {\n        \"dtype\": \"category\",\n        \"num_unique_values\": 1,\n        \"samples\": [\n          \"15FEB2023:00:00:00\"\n        ],\n        \"semantic_type\": \"\",\n        \"description\": \"\"\n      }\n    },\n    {\n      \"column\": \"VEHICLE_ID\",\n      \"properties\": {\n        \"dtype\": \"number\",\n        \"std\": 2,\n        \"min\": 4029,\n        \"max\": 4223,\n        \"num_unique_values\": 2,\n        \"samples\": [\n          4029\n        ],\n        \"semantic_type\": \"\",\n        \"description\": \"\"\n      }\n    },\n    {\n      \"column\": \"METERS\",\n      \"properties\": {\n        \"dtype\": \"number\",\n        \"std\": 82890,\n        \"min\": 40,\n        \"max\": 291208,\n        \"num_unique_values\": 7175,\n        \"samples\": [\n          52795\n        ],\n        \"semantic_type\": \"\",\n        \"description\": \"\"\n      }\n    },\n    {\n      \"column\": \"ACT_TIME\",\n      \"properties\": {\n        \"dtype\": \"number\",\n        \"std\": 21775,\n        \"min\": 20469,\n        \"max\": 91803,\n        \"num_unique_values\": 7406,\n        \"samples\": [\n          61371\n        ],\n        \"semantic_type\": \"\",\n        \"description\": \"\"\n      }\n    },\n    {\n      \"column\": \"GPS_LONGITUDE\",\n      \"properties\": {\n        \"dtype\": \"number\",\n        \"std\": 0.04439086066093063,\n        \"min\": -122.68434,\n        \"max\": -122.523477,\n        \"num_unique_values\": 5555,\n        \"samples\": [\n          -122.62712\n        ],\n        \"semantic_type\": \"\",\n        \"description\": \"\"\n      }\n    },\n    {\n      \"column\": \"GPS_LATITUDE\",\n      \"properties\": {\n        \"dtype\": \"number\",\n        \"std\": 0.02529967512042864,\n        \"min\": 45.48867,\n        \"max\": 45.573045,\n        \"num_unique_values\": 4606,\n        \"samples\": [\n          45.556583\n        ],\n        \"semantic_type\": \"\",\n        \"description\": \"\"\n      }\n    },\n    {\n      \"column\": \"GPS_SATELLITES\",\n      \"properties\": {\n        \"dtype\": \"number\",\n        \"std\": 0,\n        \"min\": 6,\n        \"max\": 12,\n        \"num_unique_values\": 7,\n        \"samples\": [\n          8\n        ],\n        \"semantic_type\": \"\",\n        \"description\": \"\"\n      }\n    },\n    {\n      \"column\": \"GPS_HDOP\",\n      \"properties\": {\n        \"dtype\": \"number\",\n        \"std\": 0.24261260324712514,\n        \"min\": 0.6,\n        \"max\": 7.0,\n        \"num_unique_values\": 29,\n        \"samples\": [\n          3.0\n        ],\n        \"semantic_type\": \"\",\n        \"description\": \"\"\n      }\n    }\n  ]\n}"
            }
          },
          "metadata": {},
          "execution_count": 42
        }
      ]
    },
    {
      "cell_type": "code",
      "source": [
        "# Decode the timestamp by combining OPD_DATE and ACT_TIME\n",
        "data['TIMESTAMP'] = data.apply(lambda row: pd.to_datetime(row['OPD_DATE'], format='%d%b%Y:%H:%M:%S') + pd.to_timedelta(row['ACT_TIME'], unit='s'), axis=1)"
      ],
      "metadata": {
        "id": "L3xNIgBviAXv"
      },
      "execution_count": 44,
      "outputs": []
    },
    {
      "cell_type": "code",
      "source": [
        "# Drop the unneeded columns\n",
        "data.drop(columns=['OPD_DATE', 'ACT_TIME', 'GPS_SATELLITES', 'GPS_HDOP'], inplace=True)"
      ],
      "metadata": {
        "id": "s2ucDsMXiQFo"
      },
      "execution_count": 45,
      "outputs": []
    },
    {
      "cell_type": "code",
      "source": [
        "# Calculate dMETERS and dTIMESTAMP\n",
        "data['dMETERS'] = data['METERS'].diff()\n",
        "data['dTIMESTAMP'] = data['TIMESTAMP'].diff().dt.total_seconds()  # Convert timedelta to seconds"
      ],
      "metadata": {
        "id": "rYhlkbZPiW_C"
      },
      "execution_count": 46,
      "outputs": []
    },
    {
      "cell_type": "code",
      "source": [
        "# Calculate SPEED as dMETERS / dTIMESTAMP\n",
        "data['SPEED'] = data['dMETERS'] / data['dTIMESTAMP']"
      ],
      "metadata": {
        "id": "cd05mqScicwa"
      },
      "execution_count": 47,
      "outputs": []
    },
    {
      "cell_type": "code",
      "source": [
        "# Drop the unneeded dMETERS and dTIMESTAMP columns\n",
        "data.drop(columns=['dMETERS', 'dTIMESTAMP'], inplace=True)"
      ],
      "metadata": {
        "id": "2jIDZLfJigxO"
      },
      "execution_count": 48,
      "outputs": []
    },
    {
      "cell_type": "code",
      "source": [
        "# Calculate max speed, and median speed for each trip\n",
        "max_speed = data['SPEED'].max()\n",
        "median_speed = data['SPEED'].median()"
      ],
      "metadata": {
        "id": "b_4lg3qJikEb"
      },
      "execution_count": 49,
      "outputs": []
    },
    {
      "cell_type": "code",
      "source": [
        "# Find the row with maximum speed\n",
        "max_speed_row = data[data['SPEED'] == max_speed].iloc[0]"
      ],
      "metadata": {
        "id": "tx-EoeyoinmF"
      },
      "execution_count": 50,
      "outputs": []
    },
    {
      "cell_type": "code",
      "source": [
        "# Print results\n",
        "print(f\"Maximum speed for vehicle #4223 on February 15, 2023: {max_speed:.2f} m/s\")\n",
        "print(f\"Where and when did this maximum speed occur:\")\n",
        "print(f\"  GPS Longitude: {max_speed_row['GPS_LONGITUDE']}\")\n",
        "print(f\"  GPS Latitude: {max_speed_row['GPS_LATITUDE']}\")\n",
        "print(f\"  Timestamp: {max_speed_row['TIMESTAMP']}\")\n",
        "\n",
        "print(f\"\\nMedian speed for this vehicle on this day: {median_speed:.2f} m/s\")"
      ],
      "metadata": {
        "colab": {
          "base_uri": "https://localhost:8080/"
        },
        "id": "nwMcjsO-irH3",
        "outputId": "2ffbf84f-1785-4801-d320-365f1324f9f5"
      },
      "execution_count": 51,
      "outputs": [
        {
          "output_type": "stream",
          "name": "stdout",
          "text": [
            "Maximum speed for vehicle #4223 on February 15, 2023: 17.40 m/s\n",
            "Where and when did this maximum speed occur:\n",
            "  GPS Longitude: -122.660822\n",
            "  GPS Latitude: 45.505452\n",
            "  Timestamp: 2023-02-15 05:44:49\n",
            "\n",
            "Median speed for this vehicle on this day: 7.20 m/s\n"
          ]
        }
      ]
    }
  ]
}